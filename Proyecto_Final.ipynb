{
  "nbformat": 4,
  "nbformat_minor": 0,
  "metadata": {
    "colab": {
      "provenance": [],
      "mount_file_id": "1g-ksHkp1_i19Bm5BNQMJEBcuVMq23KW1",
      "authorship_tag": "ABX9TyOuAmilRMo69UhHW/nxSoyZ",
      "include_colab_link": true
    },
    "kernelspec": {
      "name": "python3",
      "display_name": "Python 3"
    },
    "language_info": {
      "name": "python"
    }
  },
  "cells": [
    {
      "cell_type": "markdown",
      "metadata": {
        "id": "view-in-github",
        "colab_type": "text"
      },
      "source": [
        "<a href=\"https://colab.research.google.com/github/joseorlandomx/topicodeindustria1/blob/main/Proyecto_Final.ipynb\" target=\"_parent\"><img src=\"https://colab.research.google.com/assets/colab-badge.svg\" alt=\"Open In Colab\"/></a>"
      ]
    },
    {
      "cell_type": "markdown",
      "source": [
        "# **Proyecto Final (Dashboard tema libre)**\n",
        "\n",
        "José Orlando Salas Contreras (208743738)\n",
        "\n",
        "[jose.salas4373@alumnos.udg.mx](mailto:jose.salas4373@alumnos.udg.mx)\n",
        "\n",
        "Verónica Marisela Frías Peralta (208561486)\n",
        "\n",
        "[veronica.frias6148@alumnos.udg.mx](mailto:veronica.frias6148@alumnos.udg.mx)\n",
        "\n",
        "**Requisitos mínimos:**\n",
        "* **Capa 1**: Un panel de controles que permita generar el **dataset origen** a analizar. Este dataset puede ser generado al momento partiendo de una formula e introduciendo los parametros a travez de los widgets en el panel (**ejemplo**: selección del tipo de trayectoria y sus parámetros en la práctica 4), o puede ser el resultado de filtrar un dataset mayor ya existente en memoria, en cuyo caso los widgets en el panel de control permitiran ajustar los limites de dichos filtros.\n",
        "* **Capa 2**: Un panel en el cual se despliegue una **representación gráfica del dataset origen** (**ejemplo**: Trazo de la trayectoria en 3D en la práctica 4).\n",
        "* **Capa 3**: Un panel de controles que permita elegir entre diferentes **metricas** a calcular a partir del dataset origen. Las métricas obtenidas deberán ser representadas también graficamente (**ejemplo**: Selección entre path length y mean squared displacement y su gráfica en la práctica 4).\n",
        "\n",
        "**Revisión de la práctica:**\n",
        "* El notebook con la práctica se entregará en un repositorio en **GitHub**. Será necesario demostrar por medio de commits el historial de versiones de su NoteBook.\n",
        "* Los integrantes del equipo deberán explicar su código y deberán ser capaces de corregir errores introducidos a este.\n",
        "* Uno de los integrantes del equipo presentará el dashboard durante la clase."
      ],
      "metadata": {
        "id": "It-kcA0b5GRp"
      }
    },
    {
      "cell_type": "markdown",
      "source": [
        "## **Modules**"
      ],
      "metadata": {
        "id": "OJWYim1lCI0o"
      }
    },
    {
      "cell_type": "code",
      "source": [
        "import math\n",
        "import numpy as np\n",
        "import pandas as pd\n",
        "import matplotlib.pyplot as plt\n",
        "import plotly.graph_objects as go\n",
        "import panel as pn\n",
        "import panel.widgets as pnw\n",
        "import plotly.express as px\n",
        "from scipy.stats import wrapcauchy\n",
        "from scipy.stats import levy_stable\n",
        "from scipy.spatial import distance\n",
        "from google.colab import drive\n",
        "pn.extension('plotly')"
      ],
      "metadata": {
        "id": "ak99LAYfCKjW"
      },
      "execution_count": null,
      "outputs": []
    },
    {
      "cell_type": "code",
      "source": [
        "url = '/content/conjunto_de_datos_gastotarjetas_enigh2022_ns.csv'\n",
        "df = pd.read_csv(url)"
      ],
      "metadata": {
        "id": "GzzHQ2GIpWL8"
      },
      "execution_count": 4,
      "outputs": []
    },
    {
      "cell_type": "markdown",
      "source": [
        "## **Capa 1**"
      ],
      "metadata": {
        "id": "LaDTAxlcXeua"
      }
    },
    {
      "cell_type": "code",
      "source": [
        "# Capa 1: Panel de Controles para Generar el Dataset\n",
        "def generate_dataset(tipo_trayectoria, parametro1, parametro2):\n",
        "    # Lógica para generar el dataset según la fórmula o filtros\n",
        "    # Utiliza los parámetros proporcionados\n",
        "\n",
        "# Crear widgets para la Capa 1\n",
        "tipo_trayectoria_widget = widgets.Dropdown(options=['Opción1', 'Opción2'], description='Tipo de Trayectoria:')\n",
        "parametro1_widget = widgets.FloatSlider(min=0, max=10, step=0.1, value=5, description='Parámetro 1:')\n",
        "parametro2_widget = widgets.FloatSlider(min=0, max=10, step=0.1, value=5, description='Parámetro 2:')\n",
        "\n",
        "# Crear panel interactivo para la Capa 1\n",
        "capa1_panel = interactive(generate_dataset, tipo_trayectoria=tipo_trayectoria_widget,\n",
        "                           parametro1=parametro1_widget, parametro2=parametro2_widget)"
      ],
      "metadata": {
        "id": "RAz2M60CXj7e"
      },
      "execution_count": null,
      "outputs": []
    },
    {
      "cell_type": "markdown",
      "source": [
        "## **Capa 2**"
      ],
      "metadata": {
        "id": "8R6h0cmNXkpy"
      }
    },
    {
      "cell_type": "code",
      "source": [
        "# Capa 2: Panel para Visualizar Gráficamente el Dataset\n",
        "def plot_dataset():\n",
        "    # Lógica para visualizar gráficamente el dataset\n",
        "    # Utiliza los datos generados o filtrados en la Capa 1\n",
        "    fig = px.scatter_3d(df, x='...', y='...', z='...', color='...')\n",
        "    fig.show()\n",
        "\n",
        "# Crear panel para la Capa 2\n",
        "capa2_panel = interactive(plot_dataset)"
      ],
      "metadata": {
        "id": "nSUGvSoVXoB7"
      },
      "execution_count": null,
      "outputs": []
    },
    {
      "cell_type": "markdown",
      "source": [
        "## **Capa 3**"
      ],
      "metadata": {
        "id": "Vrm65kflXqED"
      }
    },
    {
      "cell_type": "code",
      "source": [
        "# Capa 3: Panel de Controles para Elegir Métricas\n",
        "def calculate_metrics(metrica):\n",
        "    # Lógica para calcular y visualizar métricas\n",
        "    # Utiliza los datos generados o filtrados en la Capa 1\n",
        "    fig = px.bar(df, x='...', y=metrica, color='...')\n",
        "    fig.show()\n",
        "\n",
        "# Crear widgets para la Capa 3\n",
        "metrica_widget = widgets.Dropdown(options=['path length', 'mean squared displacement'], description='Seleccione Métrica:')\n",
        "\n",
        "# Crear panel interactivo para la Capa 3\n",
        "capa3_panel = interactive(calculate_metrics, metrica=metrica_widget)"
      ],
      "metadata": {
        "id": "oLsru9tPXr_i"
      },
      "execution_count": null,
      "outputs": []
    },
    {
      "cell_type": "code",
      "source": [
        "# Mostrar los paneles\n",
        "display(capa1_panel)\n",
        "display(capa2_panel)\n",
        "display(capa3_panel)"
      ],
      "metadata": {
        "colab": {
          "base_uri": "https://localhost:8080/",
          "height": 211
        },
        "id": "Z13uqevfpHGl",
        "outputId": "b5aa9ebc-ebf6-4086-d3c5-120f88d196eb"
      },
      "execution_count": 2,
      "outputs": [
        {
          "output_type": "error",
          "ename": "IndentationError",
          "evalue": "expected an indented block after function definition on line 2 (<ipython-input-2-80c0baadcd26>, line 7)",
          "traceback": [
            "\u001b[0;31m---------------------------------------------------------------------------\u001b[0m",
            "\u001b[0;31mIndentationError\u001b[0m                          Traceback (most recent call last)",
            "\u001b[0;32m/usr/local/lib/python3.10/dist-packages/IPython/core/compilerop.py\u001b[0m in \u001b[0;36mast_parse\u001b[0;34m(self, source, filename, symbol)\u001b[0m\n\u001b[1;32m     99\u001b[0m         \u001b[0mArguments\u001b[0m \u001b[0mare\u001b[0m \u001b[0mexactly\u001b[0m \u001b[0mthe\u001b[0m \u001b[0msame\u001b[0m \u001b[0;32mas\u001b[0m \u001b[0mast\u001b[0m\u001b[0;34m.\u001b[0m\u001b[0mparse\u001b[0m \u001b[0;34m(\u001b[0m\u001b[0;32min\u001b[0m \u001b[0mthe\u001b[0m \u001b[0mstandard\u001b[0m \u001b[0mlibrary\u001b[0m\u001b[0;34m)\u001b[0m\u001b[0;34m,\u001b[0m\u001b[0;34m\u001b[0m\u001b[0;34m\u001b[0m\u001b[0m\n\u001b[1;32m    100\u001b[0m         and are passed to the built-in compile function.\"\"\"\n\u001b[0;32m--> 101\u001b[0;31m         \u001b[0;32mreturn\u001b[0m \u001b[0mcompile\u001b[0m\u001b[0;34m(\u001b[0m\u001b[0msource\u001b[0m\u001b[0;34m,\u001b[0m \u001b[0mfilename\u001b[0m\u001b[0;34m,\u001b[0m \u001b[0msymbol\u001b[0m\u001b[0;34m,\u001b[0m \u001b[0mself\u001b[0m\u001b[0;34m.\u001b[0m\u001b[0mflags\u001b[0m \u001b[0;34m|\u001b[0m \u001b[0mPyCF_ONLY_AST\u001b[0m\u001b[0;34m,\u001b[0m \u001b[0;36m1\u001b[0m\u001b[0;34m)\u001b[0m\u001b[0;34m\u001b[0m\u001b[0;34m\u001b[0m\u001b[0m\n\u001b[0m\u001b[1;32m    102\u001b[0m \u001b[0;34m\u001b[0m\u001b[0m\n\u001b[1;32m    103\u001b[0m     \u001b[0;32mdef\u001b[0m \u001b[0mreset_compiler_flags\u001b[0m\u001b[0;34m(\u001b[0m\u001b[0mself\u001b[0m\u001b[0;34m)\u001b[0m\u001b[0;34m:\u001b[0m\u001b[0;34m\u001b[0m\u001b[0;34m\u001b[0m\u001b[0m\n",
            "\u001b[0;31mIndentationError\u001b[0m: expected an indented block after function definition on line 2 (<ipython-input-2-80c0baadcd26>, line 7)"
          ]
        }
      ]
    }
  ]
}