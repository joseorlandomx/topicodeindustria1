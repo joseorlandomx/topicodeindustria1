{
  "nbformat": 4,
  "nbformat_minor": 0,
  "metadata": {
    "colab": {
      "provenance": [],
      "authorship_tag": "ABX9TyOJ8oZZHBReNJR+yzy3RA9B",
      "include_colab_link": true
    },
    "kernelspec": {
      "name": "python3",
      "display_name": "Python 3"
    },
    "language_info": {
      "name": "python"
    }
  },
  "cells": [
    {
      "cell_type": "markdown",
      "metadata": {
        "id": "view-in-github",
        "colab_type": "text"
      },
      "source": [
        "<a href=\"https://colab.research.google.com/github/joseorlandomx/topicodeindustria1/blob/main/Practica_3.ipynb\" target=\"_parent\"><img src=\"https://colab.research.google.com/assets/colab-badge.svg\" alt=\"Open In Colab\"/></a>"
      ]
    },
    {
      "cell_type": "markdown",
      "source": [
        "# **Práctica 3**\n",
        "\n",
        "José Orlando Salas Contreras (208743738)\n",
        "\n",
        "[jose.salas4373@alumnos.udg.mx](mailto:jose.salas4373@alumnos.udg.mx)\n",
        "\n",
        "**Requisitos mínimos:**\n",
        "* **Actividad 1:** Path-length - (BM1 vs BM2 vs CRW) (4 pts)\n",
        "* **Actividad 2:** Mean Squared Displacement - (BM vs CRW) (4 pts)\n",
        "* **Actividad 3:** Turning-angle Distribution - (Dist. origen vs Dist. observada) (6 pts)\n",
        "* **Actividad 4:** Step-length Distribution - (Dist. origen vs Dist. observada) (6 pts)\n",
        "\n",
        "**Revisión de la práctica:**\n",
        "* El notebook con la práctica se entregará en un repositorio en **GitHub**. Será necesario demostrar por medio de commits el historial de versiones de su NoteBook.\n",
        "* El estudiante deberá ser capaz de explicar su código y de corregir errores introducidos a este."
      ],
      "metadata": {
        "id": "LQ-22v0q_098"
      }
    },
    {
      "cell_type": "markdown",
      "source": [
        "## Modules"
      ],
      "metadata": {
        "id": "MyqRStKRATjg"
      }
    },
    {
      "cell_type": "code",
      "source": [
        "import math\n",
        "import numpy as np\n",
        "import matplotlib.pyplot as plt # Gráficas 2D\n",
        "import pandas as pd\n",
        "\n",
        "from plotly.subplots import make_subplots # Para subgráficos\n",
        "import plotly.graph_objects as go # Gráficos interactivos y 3D\n",
        "\n",
        "from scipy.stats import wrapcauchy # Para ángulos\n",
        "from scipy.stats import levy_stable # Levy Stable function\n",
        "\n",
        "import pickle"
      ],
      "metadata": {
        "id": "bT_kFAAkAQvM"
      },
      "execution_count": 3,
      "outputs": []
    },
    {
      "cell_type": "markdown",
      "source": [
        "## Classes"
      ],
      "metadata": {
        "id": "IBFlQnj4AYbj"
      }
    },
    {
      "cell_type": "code",
      "source": [
        "# Nota: Esta clase la importaremos junto con el segundo bloque de modulos\n",
        "################# http://www.pygame.org/wiki/2DVectorClass ##################\n",
        "class Vec2d(object):\n",
        "    \"\"\"2d vector class, supports vector and scalar operators,\n",
        "       and also provides a bunch of high level functions\n",
        "       \"\"\"\n",
        "    __slots__ = ['x', 'y']\n",
        "\n",
        "    def __init__(self, x_or_pair, y = None):\n",
        "        if y == None:\n",
        "            self.x = x_or_pair[0]\n",
        "            self.y = x_or_pair[1]\n",
        "        else:\n",
        "            self.x = x_or_pair\n",
        "            self.y = y\n",
        "\n",
        "    # Addition\n",
        "    def __add__(self, other):\n",
        "        if isinstance(other, Vec2d):\n",
        "            return Vec2d(self.x + other.x, self.y + other.y)\n",
        "        elif hasattr(other, \"__getitem__\"):\n",
        "            return Vec2d(self.x + other[0], self.y + other[1])\n",
        "        else:\n",
        "            return Vec2d(self.x + other, self.y + other)\n",
        "\n",
        "    # Subtraction\n",
        "    def __sub__(self, other):\n",
        "        if isinstance(other, Vec2d):\n",
        "            return Vec2d(self.x - other.x, self.y - other.y)\n",
        "        elif (hasattr(other, \"__getitem__\")):\n",
        "            return Vec2d(self.x - other[0], self.y - other[1])\n",
        "        else:\n",
        "            return Vec2d(self.x - other, self.y - other)\n",
        "\n",
        "    # Vector length\n",
        "    def get_length(self):\n",
        "        return math.sqrt(self.x**2 + self.y**2)\n",
        "\n",
        "    # rotate vector\n",
        "    def rotated(self, angle):\n",
        "        cos = math.cos(angle)\n",
        "        sin = math.sin(angle)\n",
        "        x = self.x*cos - self.y*sin\n",
        "        y = self.x*sin + self.y*cos\n",
        "        return Vec2d(x, y)"
      ],
      "metadata": {
        "id": "Goy6Cwj5AaUm"
      },
      "execution_count": null,
      "outputs": []
    },
    {
      "cell_type": "markdown",
      "source": [
        "## **Actividad 1: Path-length - (BM1 vs BM2 vs CRW) (4 pts)**\n",
        "* Implementar función que genere **Brownian Motions (BM)** utilizando **pandas**.\n",
        "* Implementar función que genere **Correlated Random Walks (CRW)** utilizando **pandas**.\n",
        "* Implementar una **función** alternativa a las ya disponibles en los distintos modulos de python que calcule los valores de la curva de **path length** de una trayectoria.\n",
        "* Guardar los valores de la métrica en un Data Frame de **pandas**.\n",
        "* Visualizar con **plotly**."
      ],
      "metadata": {
        "id": "7vUh6Kt6AhCf"
      }
    },
    {
      "cell_type": "code",
      "source": [],
      "metadata": {
        "id": "m_RvTy-1DVpt"
      },
      "execution_count": null,
      "outputs": []
    },
    {
      "cell_type": "markdown",
      "source": [
        "## **Actividad 2: Mean Squared Displacement - (BM vs CRW) (4 pts)**\n",
        "* Generar una trayectoria tipo **BM** y una **CRW**.\n",
        "* Implementar una función que calcule los valores de la curva de **mean squared displacement** de una trayectoria.\n",
        "* Guardar metricas en Pandas Data Frame.\n",
        "* Visualizar con plotly."
      ],
      "metadata": {
        "id": "ZqGJcuYpDW-2"
      }
    },
    {
      "cell_type": "code",
      "source": [],
      "metadata": {
        "id": "CWPxXUbyDYGM"
      },
      "execution_count": null,
      "outputs": []
    },
    {
      "cell_type": "markdown",
      "source": [
        "## **Actividad 1: Path-length - (BM1 vs BM2 vs CRW) (4 pts)**\n",
        "* Implementar función que genere **Brownian Motions (BM)** utilizando **pandas**.\n",
        "* Implementar función que genere **Correlated Random Walks (CRW)** utilizando **pandas**.\n",
        "* Implementar una **función** alternativa a las ya disponibles en los distintos modulos de python que calcule los valores de la curva de **path length** de una trayectoria.\n",
        "* Guardar los valores de la métrica en un Data Frame de **pandas**.\n",
        "* Visualizar con **plotly**."
      ],
      "metadata": {
        "id": "eqDpYwfVDXnu"
      }
    },
    {
      "cell_type": "code",
      "source": [],
      "metadata": {
        "id": "AMmNig5MDYes"
      },
      "execution_count": null,
      "outputs": []
    },
    {
      "cell_type": "markdown",
      "source": [
        "## **Actividad 1: Path-length - (BM1 vs BM2 vs CRW) (4 pts)**\n",
        "* Implementar función que genere **Brownian Motions (BM)** utilizando **pandas**.\n",
        "* Implementar función que genere **Correlated Random Walks (CRW)** utilizando **pandas**.\n",
        "* Implementar una **función** alternativa a las ya disponibles en los distintos modulos de python que calcule los valores de la curva de **path length** de una trayectoria.\n",
        "* Guardar los valores de la métrica en un Data Frame de **pandas**.\n",
        "* Visualizar con **plotly**."
      ],
      "metadata": {
        "id": "Wl0nLjSBDTxZ"
      }
    },
    {
      "cell_type": "code",
      "source": [],
      "metadata": {
        "id": "kKsq6xruDZdk"
      },
      "execution_count": null,
      "outputs": []
    }
  ]
}