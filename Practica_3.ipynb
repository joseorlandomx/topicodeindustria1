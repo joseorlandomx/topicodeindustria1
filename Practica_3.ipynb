{
  "nbformat": 4,
  "nbformat_minor": 0,
  "metadata": {
    "colab": {
      "provenance": [],
      "collapsed_sections": [
        "MyqRStKRATjg",
        "IBFlQnj4AYbj",
        "7vUh6Kt6AhCf",
        "rrkrvRho6Jus",
        "VSvyeXgR65qF"
      ],
      "authorship_tag": "ABX9TyOFiVflXtV7iwHECGrIp2Cx",
      "include_colab_link": true
    },
    "kernelspec": {
      "name": "python3",
      "display_name": "Python 3"
    },
    "language_info": {
      "name": "python"
    }
  },
  "cells": [
    {
      "cell_type": "markdown",
      "metadata": {
        "id": "view-in-github",
        "colab_type": "text"
      },
      "source": [
        "<a href=\"https://colab.research.google.com/github/joseorlandomx/topicodeindustria1/blob/main/Practica_3.ipynb\" target=\"_parent\"><img src=\"https://colab.research.google.com/assets/colab-badge.svg\" alt=\"Open In Colab\"/></a>"
      ]
    },
    {
      "cell_type": "markdown",
      "source": [
        "# **Práctica 3**\n",
        "\n",
        "José Orlando Salas Contreras (208743738)\n",
        "\n",
        "[jose.salas4373@alumnos.udg.mx](mailto:jose.salas4373@alumnos.udg.mx)\n",
        "\n",
        "**Requisitos mínimos:**\n",
        "* **Actividad 1:** Path-length - (BM1 vs BM2 vs CRW) (4 pts)\n",
        "* **Actividad 2:** Mean Squared Displacement - (BM vs CRW) (4 pts)\n",
        "* **Actividad 3:** Turning-angle Distribution - (Dist. origen vs Dist. observada) (6 pts)\n",
        "* **Actividad 4:** Step-length Distribution - (Dist. origen vs Dist. observada) (6 pts)\n",
        "\n",
        "**Revisión de la práctica:**\n",
        "* El notebook con la práctica se entregará en un repositorio en **GitHub**. Será necesario demostrar por medio de commits el historial de versiones de su NoteBook.\n",
        "* El estudiante deberá ser capaz de explicar su código y de corregir errores introducidos a este."
      ],
      "metadata": {
        "id": "LQ-22v0q_098"
      }
    },
    {
      "cell_type": "markdown",
      "source": [
        "## Modules"
      ],
      "metadata": {
        "id": "MyqRStKRATjg"
      }
    },
    {
      "cell_type": "code",
      "source": [
        "import math\n",
        "import os\n",
        "import numpy as np\n",
        "import pandas as pd\n",
        "import plotly.graph_objects as go\n",
        "from scipy.stats import wrapcauchy\n",
        "from scipy.stats import levy_stable\n",
        "from scipy.spatial import distance"
      ],
      "metadata": {
        "id": "bT_kFAAkAQvM"
      },
      "execution_count": 225,
      "outputs": []
    },
    {
      "cell_type": "markdown",
      "source": [
        "## Classes"
      ],
      "metadata": {
        "id": "IBFlQnj4AYbj"
      }
    },
    {
      "cell_type": "code",
      "source": [
        "# Nota: Esta clase la importaremos junto con el segundo bloque de modulos\n",
        "################# http://www.pygame.org/wiki/2DVectorClass ##################\n",
        "class Vec2d(object):\n",
        "    \"\"\"2d vector class, supports vector and scalar operators,\n",
        "       and also provides a bunch of high level functions\n",
        "       \"\"\"\n",
        "    __slots__ = ['x', 'y']\n",
        "\n",
        "    def __init__(self, x_or_pair, y = None):\n",
        "        if y == None:\n",
        "            self.x = x_or_pair[0]\n",
        "            self.y = x_or_pair[1]\n",
        "        else:\n",
        "            self.x = x_or_pair\n",
        "            self.y = y\n",
        "\n",
        "    # Addition\n",
        "    def __add__(self, other):\n",
        "        if isinstance(other, Vec2d):\n",
        "            return Vec2d(self.x + other.x, self.y + other.y)\n",
        "        elif hasattr(other, \"__getitem__\"):\n",
        "            return Vec2d(self.x + other[0], self.y + other[1])\n",
        "        else:\n",
        "            return Vec2d(self.x + other, self.y + other)\n",
        "\n",
        "    # Subtraction\n",
        "    def __sub__(self, other):\n",
        "        if isinstance(other, Vec2d):\n",
        "            return Vec2d(self.x - other.x, self.y - other.y)\n",
        "        elif (hasattr(other, \"__getitem__\")):\n",
        "            return Vec2d(self.x - other[0], self.y - other[1])\n",
        "        else:\n",
        "            return Vec2d(self.x - other, self.y - other)\n",
        "\n",
        "    # Vector length\n",
        "    def get_length(self):\n",
        "        return math.sqrt(self.x**2 + self.y**2)\n",
        "\n",
        "    # rotate vector\n",
        "    def rotated(self, angle):\n",
        "        cos = math.cos(angle)\n",
        "        sin = math.sin(angle)\n",
        "        x = self.x*cos - self.y*sin\n",
        "        y = self.x*sin + self.y*cos\n",
        "        return Vec2d(x, y)"
      ],
      "metadata": {
        "id": "Goy6Cwj5AaUm"
      },
      "execution_count": 61,
      "outputs": []
    },
    {
      "cell_type": "markdown",
      "source": [
        "## **Actividad 1: Path-length - (BM1 vs BM2 vs CRW) (4 pts)**\n",
        "* Implementar función que genere **Brownian Motions (BM)** utilizando **pandas**.\n",
        "* Implementar función que genere **Correlated Random Walks (CRW)** utilizando **pandas**.\n",
        "* Implementar una **función** alternativa a las ya disponibles en los distintos modulos de python que calcule los valores de la curva de **path length** de una trayectoria.\n",
        "* Guardar los valores de la métrica en un Data Frame de **pandas**.\n",
        "* Visualizar con **plotly**."
      ],
      "metadata": {
        "id": "7vUh6Kt6AhCf"
      }
    },
    {
      "cell_type": "markdown",
      "source": [
        "### **Actividad 1** con Brownian Motions y Correlated Random Walks generados con funciones"
      ],
      "metadata": {
        "id": "rrkrvRho6Jus"
      }
    },
    {
      "cell_type": "code",
      "source": [
        "# Función para generar Brownian Motions (BM) con Pandas\n",
        "def bm_2d(n_steps=1000, speed=5, s_pos=[0,0]):\n",
        "  \"\"\"\n",
        "  Arguments:\n",
        "    n_steps:\n",
        "    speed:\n",
        "    s_pos:\n",
        "  Returns:\n",
        "    BM_2d_df:\n",
        "  \"\"\"\n",
        "\n",
        "  # Init velocity vector\n",
        "  velocity = Vec2d(speed, 0)\n",
        "\n",
        "  BM_2d_df = pd.DataFrame(columns = ['x_pos', 'y_pos'])\n",
        "  temp_df = pd.DataFrame([{'x_pos': s_pos[0], 'y_pos': s_pos[1]}])\n",
        "\n",
        "  BM_2d_df = pd.concat([BM_2d_df, temp_df], ignore_index=True)\n",
        "\n",
        "  for i in range(n_steps-1):\n",
        "    turn_angle = np.random.uniform(low=-np.pi, high=np.pi)\n",
        "    velocity = velocity.rotated(turn_angle)\n",
        "\n",
        "    temp_df = pd.DataFrame([{'x_pos': BM_2d_df.x_pos[i]+velocity.x, 'y_pos': BM_2d_df.y_pos[i]+velocity.y}])\n",
        "\n",
        "    BM_2d_df = pd.concat([BM_2d_df, temp_df], ignore_index=True)\n",
        "\n",
        "  return BM_2d_df"
      ],
      "metadata": {
        "id": "ywqwPg8Ew-hv"
      },
      "execution_count": 147,
      "outputs": []
    },
    {
      "cell_type": "code",
      "source": [
        "# Función para generar Correlated Random Walks (CRW) con pandas\n",
        "def generate_crw(n_steps, alpha, beta, start=(0, 0)):\n",
        "    \"\"\"\n",
        "    Genera Correlated Random Walks (CRW) utilizando pandas.\n",
        "\n",
        "    Parameters:\n",
        "    - n_steps (int): Número de pasos en la caminata.\n",
        "    - alpha (float): Parámetro de escala para la distribución normal que afecta los cambios en x.\n",
        "    - beta (float): Parámetro de escala para la distribución normal que afecta los cambios en y.\n",
        "    - start (tuple): Coordenadas iniciales (por defecto, (0, 0)).\n",
        "\n",
        "    Returns:\n",
        "    - pandas.DataFrame: DataFrame con las coordenadas x e y de la caminata.\n",
        "    \"\"\"\n",
        "    np.random.seed(42)  # Fijar semilla para reproducibilidad\n",
        "\n",
        "    # Inicializar el DataFrame\n",
        "    crw_df = pd.DataFrame(index=range(n_steps), columns=['x_pos', 'y_pos'])\n",
        "\n",
        "    # Establecer las coordenadas iniciales\n",
        "    crw_df.loc[0] = start\n",
        "\n",
        "    # Generar la CRW\n",
        "    for i in range(1, n_steps):\n",
        "        dx = np.random.normal(0, alpha)\n",
        "        dy = beta * crw_df['x_pos'][i - 1] + np.random.normal(0, 1)\n",
        "\n",
        "        crw_df.loc[i, 'x_pos'] = crw_df['x_pos'][i - 1] + dx\n",
        "        crw_df.loc[i, 'y_pos'] = crw_df['y_pos'][i - 1] + dy\n",
        "\n",
        "    return crw_df"
      ],
      "metadata": {
        "id": "zIWCzRTZxHgH"
      },
      "execution_count": 148,
      "outputs": []
    },
    {
      "cell_type": "code",
      "source": [
        "# BM con vel 3\n",
        "BM_2d_df_3 = bm_2d(1000, 3, [0,0])\n",
        "\n",
        "# BM con vel 6\n",
        "BM_2d_df_6 = bm_2d(1000, 6, [0,0])\n",
        "\n",
        "# CRW con alpha 0.1 y beta 0.3\n",
        "CRW_2d_df_9 = generate_crw(1000, 0.1, 0.3, [0,0])"
      ],
      "metadata": {
        "id": "22__5lJnssbg"
      },
      "execution_count": 149,
      "outputs": []
    },
    {
      "cell_type": "code",
      "source": [
        "# Calcular distancia entre detecciones consecutivos\n",
        "dis_BM_3 = np.array([distance.euclidean(BM_2d_df_3.iloc[i-1],BM_2d_df_3.iloc[i]) for i in range(1,BM_2d_df_3.shape[0])])\n",
        "# Calculo del path length\n",
        "pl_BM_3 = np.cumsum(dis_BM_3)\n",
        "\n",
        "# Calcular distancia entre detecciones consecutivas\n",
        "dis_BM_6 = np.array([distance.euclidean(BM_2d_df_6.iloc[i-1],BM_2d_df_6.iloc[i]) for i in range(1,BM_2d_df_6.shape[0])])\n",
        "# Calculo del path length\n",
        "pl_BM_6 = np.cumsum(dis_BM_6)\n",
        "\n",
        "# Calcular distancia entre detecciones consecutivas\n",
        "dis_CRW_6 = np.array([distance.euclidean(CRW_2d_df_9.iloc[i-1],CRW_2d_df_9.iloc[i]) for i in range(1,CRW_2d_df_9.shape[0])])\n",
        "# Calculo del path length\n",
        "pl_CRW_6 = np.cumsum(dis_CRW_6)"
      ],
      "metadata": {
        "id": "H2C8Aupt61PP"
      },
      "execution_count": null,
      "outputs": []
    },
    {
      "cell_type": "code",
      "source": [
        "# Inicializamos la gráfica\n",
        "fig_path_length = go.Figure()\n",
        "\n",
        "# Trazamos el Brownian Motion con velocidad 3 (BM_3)\n",
        "fig_path_length.add_trace(go.Scatter(\n",
        "    x = np.arange(len(pl_BM_3))+1,\n",
        "    y = pl_BM_3,\n",
        "    line = dict(width = 2, color = 'green'),\n",
        "    name = 'path_length_BM_3',\n",
        "    showlegend = True\n",
        "))\n",
        "\n",
        "# Trazamos el Brownian Motion con velocidad 6 (BM_6)\n",
        "fig_path_length.add_trace(go.Scatter(\n",
        "    x = np.arange(len(pl_BM_6))+1,\n",
        "    y = pl_BM_6,\n",
        "    line = dict(width = 6, color = 'red'),\n",
        "    name = 'path_length_BM_6',\n",
        "    showlegend = True\n",
        "))\n",
        "\n",
        "# Trazamos el Correlated Random Walks (CRW6)\n",
        "fig_path_length.add_trace(go.Scatter(\n",
        "    x = np.arange(len(pl_CRW_6))+1,\n",
        "    y = pl_CRW_6,\n",
        "    line = dict(width = 2, color = 'yellow'),\n",
        "    name = 'path_length_CRW_6',\n",
        "    showlegend = True\n",
        "))\n",
        "\n",
        "# Personaliamos las títulos de los ejes de la gráfica\n",
        "fig_path_length.update_layout(title='Brownian Motion and CRW - Path Length',\n",
        "                              xaxis_title='Step',\n",
        "                              yaxis_title='Normalized Length')  # Actualizado el título del eje y\n",
        "\n",
        "# Mostramos la gráfica\n",
        "fig_path_length.show()"
      ],
      "metadata": {
        "id": "ZYAPyOQbxd2H"
      },
      "execution_count": null,
      "outputs": []
    },
    {
      "cell_type": "markdown",
      "source": [
        "### **Actividad 1** con Brownian Motions y Correlated Random Walks cargados desde archivos CSV"
      ],
      "metadata": {
        "id": "VSvyeXgR65qF"
      }
    },
    {
      "cell_type": "code",
      "source": [
        "# Función para convertir valores del DataFrame de string a numéricos\n",
        "def convert_to_numeric(trajectory):\n",
        "    # Convertir las columnas 'x_pos' e 'y_pos' a numérico\n",
        "    trajectory['x_pos'] = pd.to_numeric(trajectory['x_pos'], errors='coerce')\n",
        "    trajectory['y_pos'] = pd.to_numeric(trajectory['y_pos'], errors='coerce')\n",
        "    return trajectory\n",
        "\n",
        "# Función para obtener los valores del path length (distancia y longitud)\n",
        "def get_path_length(trajectory):\n",
        "    #trajectory = convert_to_numeric(trajectory)\n",
        "    distance = [np.linalg.norm(trajectory.iloc[i-1] - trajectory.iloc[i]) for i in range(1, trajectory.shape[0])]\n",
        "    length = np.cumsum(distance)\n",
        "    return distance, length"
      ],
      "metadata": {
        "id": "9Y9h8wZH0AzP"
      },
      "execution_count": 137,
      "outputs": []
    },
    {
      "cell_type": "code",
      "source": [
        "# Cargamos las trayectorias desde los archivos CSV y obtenemos sus path lengths con la función\n",
        "\n",
        "# Trayectoria Brownian Motion con velocidad 3\n",
        "BM_2d_df_3 = pd.read_csv('trajectories/brownian_3.csv')\n",
        "PL_BM_3 = get_path_length(BM_2d_df_3)\n",
        "\n",
        "# Trayectoria Brownian Motion con velocidad 6\n",
        "BM_2d_df_6 = pd.read_csv('trajectories/brownian_6.csv')\n",
        "PL_BM_6 = get_path_length(BM_2d_df_6)\n",
        "\n",
        "# Trayectoria Correlated Random Walks\n",
        "CRW_2d_df_9 = pd.read_csv('trajectories/crw_6_9.csv')\n",
        "PL_CRW_6 = get_path_length(CRW_2d_df_9)"
      ],
      "metadata": {
        "id": "yE5XlhxHz9J3"
      },
      "execution_count": 134,
      "outputs": []
    },
    {
      "cell_type": "code",
      "source": [
        "# Normalizamos las longitudes acumulativas para hacer que todas las líneas sean visibles\n",
        "max_length = max(max(PL_BM_3[1]), max(PL_BM_6[1]), max(PL_CRW_6[1]))\n",
        "\n",
        "# Inicializamos la gráfica\n",
        "fig_path_length = go.Figure()\n",
        "\n",
        "# Trazamos el Brownian Motion con velocidad 3 (BM_3)\n",
        "fig_path_length.add_trace(go.Scatter(x=np.arange(1, len(PL_BM_3[1]) + 1), y=PL_BM_3[1]/max_length,\n",
        "                                     mode='lines',\n",
        "                                     name='Path Length BM3', line = dict(width = 2, color = 'green'),\n",
        "                                     showlegend = True))\n",
        "\n",
        "# Trazamos el Brownian Motion con velocidad 6 (BM_6)\n",
        "fig_path_length.add_trace(go.Scatter(x=np.arange(1, len(PL_BM_6[1]) + 1), y=PL_BM_6[1]/max_length,\n",
        "                                     mode='lines',\n",
        "                                     name='Path Length BM6', line = dict(width = 6, color = 'red'),\n",
        "                                     showlegend = True))\n",
        "\n",
        "# Trazamos el Correlated Random Walks (CRW6)\n",
        "fig_path_length.add_trace(go.Scatter(x=np.arange(1, len(PL_CRW_6[1]) + 1), y=PL_CRW_6[1]/max_length,\n",
        "                                     mode='lines',\n",
        "                                     name='Path Length CRW6', line=dict(width = 2, color = 'yellow'),\n",
        "                                     showlegend = True))\n",
        "\n",
        "# Personaliamos las títulos de los ejes de la gráfica\n",
        "fig_path_length.update_layout(title='Brownian Motion and CRW - Path Length',\n",
        "                              xaxis_title='Step',\n",
        "                              yaxis_title='Normalized Length')  # Actualizado el título del eje y\n",
        "\n",
        "# Mostramos la gráfica\n",
        "fig_path_length.show()"
      ],
      "metadata": {
        "id": "w__kXZ_v3PuY"
      },
      "execution_count": null,
      "outputs": []
    },
    {
      "cell_type": "markdown",
      "source": [
        "## **Actividad 2: Mean Squared Displacement - (BM vs CRW) (4 pts)**\n",
        "* Generar una trayectoria tipo **BM** y una **CRW**.\n",
        "* Implementar una función que calcule los valores de la curva de **mean squared displacement** de una trayectoria.\n",
        "* Guardar metricas en **Pandas** Data Frame.\n",
        "* Visualizar con **plotly**."
      ],
      "metadata": {
        "id": "ZqGJcuYpDW-2"
      }
    },
    {
      "cell_type": "code",
      "source": [
        "# Trayectoria Brownian Motion (BM)\n",
        "BM_trajectory = pd.read_csv('trajectories/brownian_3.csv')\n",
        "\n",
        "# Trayectoria Correlated Random Walks (CRW)\n",
        "CRW_trajectory = pd.read_csv('trajectories/crw_6_9.csv')"
      ],
      "metadata": {
        "id": "arwMOYTMQFc0"
      },
      "execution_count": 217,
      "outputs": []
    },
    {
      "cell_type": "code",
      "source": [
        "# Función para calcular MSD (Mean Squared Displacement)\n",
        "def calculate_msd(trajectory):\n",
        "    # Lista para almacenar los valores de MSD\n",
        "    msd_values = []\n",
        "\n",
        "    # Iterar desde tau=1 hasta el tamaño total de la trayectoria\n",
        "    for tau in range(1, trajectory.shape[0]):\n",
        "\n",
        "        # Calcular los desplazamientos en las coordenadas x e y\n",
        "        displacement_x = trajectory['x_pos'].values[tau:] - trajectory['x_pos'].values[:-tau]\n",
        "        displacement_y = trajectory['y_pos'].values[tau:] - trajectory['y_pos'].values[:-tau]\n",
        "\n",
        "        # Calcular el cuadrado del desplazamiento\n",
        "        squared_displacement = displacement_x**2 + displacement_y**2\n",
        "\n",
        "        # Calcular el valor medio del cuadrado del desplazamiento\n",
        "        msd = np.mean(squared_displacement)\n",
        "\n",
        "        # Agregar el valor de MSD a la lista\n",
        "        msd_values.append(msd)\n",
        "\n",
        "    # Devolver la lista de valores de MSD\n",
        "    return msd_values"
      ],
      "metadata": {
        "id": "URCzBsp7QJqF"
      },
      "execution_count": 218,
      "outputs": []
    },
    {
      "cell_type": "code",
      "source": [
        "# Calcular los valores de la curva de mean squared displacement\n",
        "MSD_BM = calculate_msd(BM_trajectory)\n",
        "MSD_CRW = calculate_msd(CRW_trajectory)\n",
        "\n",
        "# Guardar métricas en Pandas Data Frame\n",
        "msd_metrics = pd.DataFrame({\n",
        "    'TAU': range(1, len(MSD_BM) + 1),\n",
        "    'MSD_BM': MSD_BM,\n",
        "    'MSD_CRW': MSD_CRW\n",
        "})\n",
        "\n",
        "# Exportar métricas a un archivo CSV\n",
        "msd_metrics.to_csv('trajectories/actividad2_metrics.csv', index=False)\n",
        "\n",
        "# Leer el archivo CSV exportado\n",
        "msd_df = pd.read_csv('trajectories/actividad2_metrics.csv')\n",
        "\n",
        "# Eliminamos el archivo temporal\n",
        "os.remove(\"trajectories/actividad2_metrics.csv\")"
      ],
      "metadata": {
        "id": "cjyb0609Cqj9"
      },
      "execution_count": 229,
      "outputs": []
    },
    {
      "cell_type": "code",
      "source": [
        "# Inicializamos la gráfica\n",
        "fig = go.Figure()\n",
        "\n",
        "# Añadimos una traza (trace) para MSD de Brownian Motion (BM)\n",
        "fig.add_trace(go.Scatter(\n",
        "    x=msd_df['TAU'],            # Eje X: Valores de tau\n",
        "    y=msd_df['MSD_BM'],          # Eje Y: Valores de MSD para BM\n",
        "    mode='lines',               # Modo de la traza: líneas\n",
        "    name='MSD BM'                # Etiqueta de la traza\n",
        "))\n",
        "\n",
        "# Añadimos otra traza para MSD de Correlated Random Walks (CRW)\n",
        "fig.add_trace(go.Scatter(\n",
        "    x=msd_df['TAU'],            # Eje X: Valores de tau\n",
        "    y=msd_df['MSD_CRW'],         # Eje Y: Valores de MSD para CRW\n",
        "    mode='lines',               # Modo de la traza: líneas\n",
        "    name='MSD CRW'               # Etiqueta de la traza\n",
        "))\n",
        "\n",
        "# Personalizamos los títulos de los ejes de la gráfica\n",
        "fig.update_layout(\n",
        "    title='Mean Squared Displacement (Brownian Motion vs Correlated Random Walks)',  # Título de la gráfica\n",
        "    xaxis_title='TAU',           # Título del eje X\n",
        "    yaxis_title='Mean Squared Displacement (MSD)'  # Título del eje Y\n",
        ")\n",
        "\n",
        "# Mostramos la gráfica\n",
        "fig.show()"
      ],
      "metadata": {
        "id": "9C3Q8gSAQjSb"
      },
      "execution_count": null,
      "outputs": []
    },
    {
      "cell_type": "markdown",
      "source": [
        "## **Actividad 3: Turning-angle Distribution - (Dist. origen vs Dist. observada) (6 pts)**\n",
        "* Generar dos **CRWs** con dos exponentes diferentes.\n",
        "* Guardar trayectorias en **pandas** Data Frame.\n",
        "* Implementar una **función** que calcule los valores de **turning angle** de una trayectoria.\n",
        "* Comparar en gráfica distribución origen vs distribución observada (Histograma).\n",
        "* Visualizar con **plotly**."
      ],
      "metadata": {
        "id": "eqDpYwfVDXnu"
      }
    },
    {
      "cell_type": "code",
      "source": [
        "# Obtenemos dos Correlated Random Walks a partir de archivos\n",
        "CRW_1 = pd.read_csv('trajectories/crw_6_6.csv')\n",
        "CRW_2 = pd.read_csv('trajectories/crw_6_9.csv')"
      ],
      "metadata": {
        "id": "AMmNig5MDYes"
      },
      "execution_count": 270,
      "outputs": []
    },
    {
      "cell_type": "code",
      "source": [
        "# Función para calcular los valores de turning angle de una trayectoria\n",
        "def calculate_turning_angle(trajectory):\n",
        "    \"\"\"\n",
        "    Calcula los valores de turning angle para una trayectoria.\n",
        "\n",
        "    Parameters:\n",
        "    - trajectory (pandas.DataFrame): DataFrame con las coordenadas de la trayectoria.\n",
        "\n",
        "    Returns:\n",
        "    - numpy.ndarray: Array con los valores de turning angle.\n",
        "    \"\"\"\n",
        "    # Calculamos las diferencias en las coordenadas\n",
        "    dx = np.diff(trajectory['x_pos'])\n",
        "    dy = np.diff(trajectory['y_pos'])\n",
        "\n",
        "    # Calculamos el ángulo utilizando la arctangente y convertimos a grados\n",
        "    turning_angle = np.degrees(np.arctan2(dy, dx))\n",
        "\n",
        "    return turning_angle"
      ],
      "metadata": {
        "id": "5cZqa5fJTfBF"
      },
      "execution_count": 271,
      "outputs": []
    },
    {
      "cell_type": "code",
      "source": [
        "# Calculamos los valores de turning angle para cada CRW\n",
        "turning_angle_1 = calculate_turning_angle(CRW_1)\n",
        "turning_angle_2 = calculate_turning_angle(CRW_2)"
      ],
      "metadata": {
        "id": "TmVad3fPTh_l"
      },
      "execution_count": 272,
      "outputs": []
    },
    {
      "cell_type": "code",
      "source": [
        "# Crear histogramas para cada CRW\n",
        "hist_1 = np.histogram(turning_angle_1, bins=50, density=True)\n",
        "hist_2 = np.histogram(turning_angle_2, bins=50, density=True)\n",
        "\n",
        "# Crear gráfico con Plotly\n",
        "fig = go.Figure()\n",
        "\n",
        "\n",
        "\n",
        "h1 = go.Histogram(x=hist_1[1], y=hist_1[0], opacity=0.75, name='Observed=0.6')\n",
        "h2 = go.Histogram(x=hist_2[1], y=hist_2[0], opacity=0.75, name='Observed=0.9')\n",
        "l1 = go.Scatter(\n",
        "    x=CRW_1['x_pos'],            # Eje X: Valores de tau\n",
        "    y=CRW_1['y_pos'],         # Eje Y: Valores de MSD para CRW\n",
        "    mode='lines',               # Modo de la traza: líneas\n",
        "    name='CRW_6'               # Etiqueta de la traza\n",
        ")\n",
        "l2 = go.Scatter(\n",
        "    x=CRW_2['x_pos'],            # Eje X: Valores de tau\n",
        "    y=CRW_2['y_pos'],         # Eje Y: Valores de MSD para CRW\n",
        "    mode='lines',               # Modo de la traza: líneas\n",
        "    name='CRW_9'               # Etiqueta de la traza\n",
        ")\n",
        "\n",
        "fig = go.Figure(data=[h1, h2, l1, l2])\n",
        "\n",
        "# Personalizar diseño\n",
        "fig.update_layout(title='Turning-angle Distribution for CRWs with Different Alphas',\n",
        "                  xaxis_title='Turning Angle (degrees)',\n",
        "                  yaxis_title='Density',\n",
        "                  barmode='overlay')\n",
        "\n",
        "# Mostrar la figura\n",
        "fig.show()"
      ],
      "metadata": {
        "id": "j_7znar0Tpfx"
      },
      "execution_count": null,
      "outputs": []
    },
    {
      "cell_type": "code",
      "source": [
        "# Generar datos de ejemplo\n",
        "np.random.seed(42)\n",
        "data = np.random.normal(0, 1, 1000)\n",
        "\n",
        "# Crear histograma\n",
        "histogram = go.Histogram(x=data, nbinsx=30, opacity=0.7, name='Histogram')\n",
        "\n",
        "# Calcular la función de densidad de probabilidad (PDF)\n",
        "pdf_values, bin_edges = np.histogram(data, bins=30, density=True)\n",
        "pdf_line = go.Scatter(x=(bin_edges[:-1] + bin_edges[1:]) / 2, y=pdf_values, mode='lines', name='PDF')\n",
        "\n",
        "# Crear gráfico con Plotly\n",
        "fig = go.Figure(data=[histogram, pdf_line])\n",
        "\n",
        "# Personalizar diseño\n",
        "fig.update_layout(title='Histogram with Probability Density Function (PDF)',\n",
        "                  xaxis_title='Value',\n",
        "                  yaxis_title='Frequency/Density')\n",
        "\n",
        "# Mostrar la figura\n",
        "fig.show()"
      ],
      "metadata": {
        "id": "iFu3CppnZAdR"
      },
      "execution_count": null,
      "outputs": []
    },
    {
      "cell_type": "markdown",
      "source": [
        "## **Actividad 4: Step-length Distribution - (Dist. origen vs Dist. observada) (6 pts)**\n",
        "* Implementar función que genere **Lévy Walks** (LW) utilizando **pandas**.\n",
        "* Guardar trayectorias en Pandas Data Frame.\n",
        "* Implementar una **función** que calcule los valores de **step lenght** de una trayectoria.\n",
        "* Guardar trayectorias en **pandas** Data Frame.\n",
        "* Obtener Step-length distribution.\n",
        "* Comparar en gráfica distribución origen vs distribución observada (Histograma).\n",
        "* Visualizar con **plotly**."
      ],
      "metadata": {
        "id": "Wl0nLjSBDTxZ"
      }
    },
    {
      "cell_type": "code",
      "source": [
        "def generate_levy_walk(n_steps, alpha, scale):\n",
        "    \"\"\"\n",
        "    Genera una Lévy Walk utilizando pandas.\n",
        "\n",
        "    Parameters:\n",
        "    - n_steps (int): Número de pasos en la trayectoria.\n",
        "    - alpha (float): Parámetro alpha que controla la distribución de Lévy.\n",
        "    - scale (float): Escala para ajustar la longitud de los pasos.\n",
        "\n",
        "    Returns:\n",
        "    - pandas.DataFrame: DataFrame con las coordenadas de la trayectoria.\n",
        "    \"\"\"\n",
        "    # Inicializar DataFrame\n",
        "    trajectory_df = pd.DataFrame(columns=['x_pos', 'y_pos'])\n",
        "\n",
        "    # Inicializar posición\n",
        "    x_pos, y_pos = 0, 0\n",
        "\n",
        "    for step in range(n_steps):\n",
        "        # Generar longitud del paso según distribución de Lévy\n",
        "        step_length = np.random.pareto(alpha) * scale\n",
        "\n",
        "        # Generar ángulo aleatorio\n",
        "        angle = np.random.uniform(0, 2 * np.pi)\n",
        "\n",
        "        # Calcular nueva posición\n",
        "        x_pos += step_length * np.cos(angle)\n",
        "        y_pos += step_length * np.sin(angle)\n",
        "\n",
        "        # Agregar posición al DataFrame\n",
        "        trajectory_df = pd.concat([trajectory_df, pd.DataFrame({'x_pos': x_pos, 'y_pos': y_pos}, index=[0])],\n",
        "                                  ignore_index=True)\n",
        "\n",
        "    return trajectory_df"
      ],
      "metadata": {
        "id": "kKsq6xruDZdk"
      },
      "execution_count": 279,
      "outputs": []
    },
    {
      "cell_type": "code",
      "source": [
        "def calculate_step_length(trajectory):\n",
        "    \"\"\"\n",
        "    Calcula los valores de step length para una trayectoria.\n",
        "\n",
        "    Parameters:\n",
        "    - trajectory (pandas.DataFrame): DataFrame con las coordenadas de la trayectoria.\n",
        "\n",
        "    Returns:\n",
        "    - numpy.ndarray: Array con los valores de step length.\n",
        "    \"\"\"\n",
        "    differences = np.diff(trajectory[['x_pos', 'y_pos']], axis=0)\n",
        "    step_lengths = np.linalg.norm(differences, axis=1)\n",
        "    return step_lengths"
      ],
      "metadata": {
        "id": "rpYyTTraaM8g"
      },
      "execution_count": 280,
      "outputs": []
    },
    {
      "cell_type": "code",
      "source": [
        "# Generar Lévy Walks\n",
        "levy_walk_1 = generate_levy_walk(n_steps=500, alpha=1.5, scale=1.0)\n",
        "levy_walk_2 = generate_levy_walk(n_steps=500, alpha=2.0, scale=1.0)\n",
        "\n",
        "# Guardar trayectorias en Pandas Data Frame\n",
        "levy_walk_1.to_csv('levy_walk_1.csv', index=False)\n",
        "levy_walk_2.to_csv('levy_walk_2.csv', index=False)\n",
        "\n",
        "# Calcular valores de step length\n",
        "step_lengths_1 = calculate_step_length(levy_walk_1)\n",
        "step_lengths_2 = calculate_step_length(levy_walk_2)"
      ],
      "metadata": {
        "id": "Mi1c0p8naOCp"
      },
      "execution_count": 281,
      "outputs": []
    },
    {
      "cell_type": "code",
      "source": [
        "# Crear histogramas para cada Lévy Walk\n",
        "hist_1 = np.histogram(step_lengths_1, bins=50, density=True)\n",
        "hist_2 = np.histogram(step_lengths_2, bins=50, density=True)"
      ],
      "metadata": {
        "id": "WfXAPSapaWe4"
      },
      "execution_count": 282,
      "outputs": []
    },
    {
      "cell_type": "code",
      "source": [
        "# Crear gráfico con Plotly\n",
        "fig = go.Figure()\n",
        "\n",
        "# Agregar histograma para Lévy Walk con alpha=1.5\n",
        "fig.add_trace(go.Histogram(x=hist_1[1], y=hist_1[0], opacity=0.75, name='Alpha=1.5'))\n",
        "\n",
        "# Agregar histograma para Lévy Walk con alpha=2.0\n",
        "fig.add_trace(go.Histogram(x=hist_2[1], y=hist_2[0], opacity=0.75, name='Alpha=2.0'))\n",
        "\n",
        "# Personalizar diseño\n",
        "fig.update_layout(title='Step-length Distribution for Lévy Walks with Different Alphas',\n",
        "                  xaxis_title='Step Length',\n",
        "                  yaxis_title='Density',\n",
        "                  barmode='overlay')\n",
        "\n",
        "# Mostrar la figura\n",
        "fig.show()"
      ],
      "metadata": {
        "colab": {
          "base_uri": "https://localhost:8080/",
          "height": 542
        },
        "id": "5D9DOG91aXTI",
        "outputId": "59d6eac7-928f-4a43-af93-030564397735"
      },
      "execution_count": 283,
      "outputs": [
        {
          "output_type": "display_data",
          "data": {
            "text/html": [
              "<html>\n",
              "<head><meta charset=\"utf-8\" /></head>\n",
              "<body>\n",
              "    <div>            <script src=\"https://cdnjs.cloudflare.com/ajax/libs/mathjax/2.7.5/MathJax.js?config=TeX-AMS-MML_SVG\"></script><script type=\"text/javascript\">if (window.MathJax && window.MathJax.Hub && window.MathJax.Hub.Config) {window.MathJax.Hub.Config({SVG: {font: \"STIX-Web\"}});}</script>                <script type=\"text/javascript\">window.PlotlyConfig = {MathJaxConfig: 'local'};</script>\n",
              "        <script charset=\"utf-8\" src=\"https://cdn.plot.ly/plotly-2.24.1.min.js\"></script>                <div id=\"4b11d5f9-6142-4bdf-9e3e-cd76a4bc5c27\" class=\"plotly-graph-div\" style=\"height:525px; width:100%;\"></div>            <script type=\"text/javascript\">                                    window.PLOTLYENV=window.PLOTLYENV || {};                                    if (document.getElementById(\"4b11d5f9-6142-4bdf-9e3e-cd76a4bc5c27\")) {                    Plotly.newPlot(                        \"4b11d5f9-6142-4bdf-9e3e-cd76a4bc5c27\",                        [{\"name\":\"Alpha=1.5\",\"opacity\":0.75,\"x\":[0.0033069378767186823,2.8383942821447103,5.673481626412702,8.508568970680694,11.343656314948685,14.178743659216677,17.01383100348467,19.84891834775266,22.68400569202065,25.51909303628864,28.354180380556635,31.189267724824628,34.024355069092614,36.859442413360604,39.6945297576286,42.52961710189659,45.36470444616458,48.19979179043257,51.03487913470056,53.86996647896856,56.70505382323655,59.54014116750454,62.375228511772534,65.21031585604052,68.04540320030851,70.8804905445765,73.71557788884449,76.55066523311248,79.38575257738049,82.22083992164848,85.05592726591647,87.89101461018446,90.72610195445245,93.56118929872044,96.39627664298843,99.23136398725642,102.0664513315244,104.90153867579241,107.7366260200604,110.57171336432839,113.40680070859638,116.24188805286437,119.07697539713236,121.91206274140035,124.74715008566835,127.58223742993634,130.41732477420433,133.2524121184723,136.0874994627403,138.92258680700832,141.7576741512763],\"y\":[0.30324266397504296,0.022619499410725812,0.009189171635607363,0.007068593565851817,0.0014137187131703633,0.0035342967829259087,0.0014137187131703624,0.0,0.0014137187131703641,0.0,0.0007068593565851812,0.0,0.0,0.0,0.0007068593565851821,0.0,0.0,0.0,0.0,0.0,0.0,0.0,0.0,0.0,0.0007068593565851821,0.0,0.0,0.0,0.0,0.0,0.0,0.0,0.0,0.0,0.0,0.0,0.0,0.0,0.0,0.0,0.0,0.0,0.0,0.0,0.0,0.0,0.0,0.0,0.0,0.0007068593565851856],\"type\":\"histogram\"},{\"name\":\"Alpha=2.0\",\"opacity\":0.75,\"x\":[5.8174284463521654e-06,0.23500298798784333,0.4700001585472403,0.7049973291066373,0.9399944996660342,1.1749916702254313,1.4099888407848282,1.6449860113442252,1.8799831819036221,2.1149803524630193,2.3499775230224165,2.584974693581813,2.8199718641412104,3.054969034700607,3.2899662052600043,3.524963375819401,3.759960546378798,3.9949577169381953,4.229954887497592,4.464952058056989,4.699949228616386,4.934946399175783,5.16994356973518,5.404940740294577,5.639937910853974,5.874935081413371,6.109932251972768,6.344929422532165,6.579926593091562,6.814923763650959,7.0499209342103555,7.284918104769753,7.51991527532915,7.754912445888547,7.989909616447944,8.22490678700734,8.459903957566738,8.694901128126135,8.929898298685531,9.164895469244929,9.399892639804326,9.634889810363722,9.86988698092312,10.104884151482517,10.339881322041913,10.57487849260131,10.809875663160707,11.044872833720104,11.279870004279502,11.514867174838898,11.749864345398295],\"y\":[1.4241419923512013,0.852779636138444,0.503139985321682,0.40080642898506874,0.2814172799256864,0.19613931631184214,0.11086135269799774,0.02558338908415332,0.04263898180692217,0.051166778168306594,0.042638981806922244,0.017055592722768867,0.02558338908415335,0.051166778168306594,0.034111185445537796,0.034111185445537734,0.008527796361384433,0.02558338908415335,0.017055592722768898,0.008527796361384418,0.0,0.008527796361384449,0.0,0.008527796361384418,0.0,0.008527796361384449,0.02558338908415325,0.0,0.0,0.008527796361384449,0.0,0.0,0.0,0.0,0.008527796361384482,0.0,0.0,0.0,0.0,0.0,0.0,0.008527796361384418,0.0,0.0,0.0,0.008527796361384482,0.0,0.008527796361384418,0.0,0.008527796361384418],\"type\":\"histogram\"}],                        {\"template\":{\"data\":{\"histogram2dcontour\":[{\"type\":\"histogram2dcontour\",\"colorbar\":{\"outlinewidth\":0,\"ticks\":\"\"},\"colorscale\":[[0.0,\"#0d0887\"],[0.1111111111111111,\"#46039f\"],[0.2222222222222222,\"#7201a8\"],[0.3333333333333333,\"#9c179e\"],[0.4444444444444444,\"#bd3786\"],[0.5555555555555556,\"#d8576b\"],[0.6666666666666666,\"#ed7953\"],[0.7777777777777778,\"#fb9f3a\"],[0.8888888888888888,\"#fdca26\"],[1.0,\"#f0f921\"]]}],\"choropleth\":[{\"type\":\"choropleth\",\"colorbar\":{\"outlinewidth\":0,\"ticks\":\"\"}}],\"histogram2d\":[{\"type\":\"histogram2d\",\"colorbar\":{\"outlinewidth\":0,\"ticks\":\"\"},\"colorscale\":[[0.0,\"#0d0887\"],[0.1111111111111111,\"#46039f\"],[0.2222222222222222,\"#7201a8\"],[0.3333333333333333,\"#9c179e\"],[0.4444444444444444,\"#bd3786\"],[0.5555555555555556,\"#d8576b\"],[0.6666666666666666,\"#ed7953\"],[0.7777777777777778,\"#fb9f3a\"],[0.8888888888888888,\"#fdca26\"],[1.0,\"#f0f921\"]]}],\"heatmap\":[{\"type\":\"heatmap\",\"colorbar\":{\"outlinewidth\":0,\"ticks\":\"\"},\"colorscale\":[[0.0,\"#0d0887\"],[0.1111111111111111,\"#46039f\"],[0.2222222222222222,\"#7201a8\"],[0.3333333333333333,\"#9c179e\"],[0.4444444444444444,\"#bd3786\"],[0.5555555555555556,\"#d8576b\"],[0.6666666666666666,\"#ed7953\"],[0.7777777777777778,\"#fb9f3a\"],[0.8888888888888888,\"#fdca26\"],[1.0,\"#f0f921\"]]}],\"heatmapgl\":[{\"type\":\"heatmapgl\",\"colorbar\":{\"outlinewidth\":0,\"ticks\":\"\"},\"colorscale\":[[0.0,\"#0d0887\"],[0.1111111111111111,\"#46039f\"],[0.2222222222222222,\"#7201a8\"],[0.3333333333333333,\"#9c179e\"],[0.4444444444444444,\"#bd3786\"],[0.5555555555555556,\"#d8576b\"],[0.6666666666666666,\"#ed7953\"],[0.7777777777777778,\"#fb9f3a\"],[0.8888888888888888,\"#fdca26\"],[1.0,\"#f0f921\"]]}],\"contourcarpet\":[{\"type\":\"contourcarpet\",\"colorbar\":{\"outlinewidth\":0,\"ticks\":\"\"}}],\"contour\":[{\"type\":\"contour\",\"colorbar\":{\"outlinewidth\":0,\"ticks\":\"\"},\"colorscale\":[[0.0,\"#0d0887\"],[0.1111111111111111,\"#46039f\"],[0.2222222222222222,\"#7201a8\"],[0.3333333333333333,\"#9c179e\"],[0.4444444444444444,\"#bd3786\"],[0.5555555555555556,\"#d8576b\"],[0.6666666666666666,\"#ed7953\"],[0.7777777777777778,\"#fb9f3a\"],[0.8888888888888888,\"#fdca26\"],[1.0,\"#f0f921\"]]}],\"surface\":[{\"type\":\"surface\",\"colorbar\":{\"outlinewidth\":0,\"ticks\":\"\"},\"colorscale\":[[0.0,\"#0d0887\"],[0.1111111111111111,\"#46039f\"],[0.2222222222222222,\"#7201a8\"],[0.3333333333333333,\"#9c179e\"],[0.4444444444444444,\"#bd3786\"],[0.5555555555555556,\"#d8576b\"],[0.6666666666666666,\"#ed7953\"],[0.7777777777777778,\"#fb9f3a\"],[0.8888888888888888,\"#fdca26\"],[1.0,\"#f0f921\"]]}],\"mesh3d\":[{\"type\":\"mesh3d\",\"colorbar\":{\"outlinewidth\":0,\"ticks\":\"\"}}],\"scatter\":[{\"fillpattern\":{\"fillmode\":\"overlay\",\"size\":10,\"solidity\":0.2},\"type\":\"scatter\"}],\"parcoords\":[{\"type\":\"parcoords\",\"line\":{\"colorbar\":{\"outlinewidth\":0,\"ticks\":\"\"}}}],\"scatterpolargl\":[{\"type\":\"scatterpolargl\",\"marker\":{\"colorbar\":{\"outlinewidth\":0,\"ticks\":\"\"}}}],\"bar\":[{\"error_x\":{\"color\":\"#2a3f5f\"},\"error_y\":{\"color\":\"#2a3f5f\"},\"marker\":{\"line\":{\"color\":\"#E5ECF6\",\"width\":0.5},\"pattern\":{\"fillmode\":\"overlay\",\"size\":10,\"solidity\":0.2}},\"type\":\"bar\"}],\"scattergeo\":[{\"type\":\"scattergeo\",\"marker\":{\"colorbar\":{\"outlinewidth\":0,\"ticks\":\"\"}}}],\"scatterpolar\":[{\"type\":\"scatterpolar\",\"marker\":{\"colorbar\":{\"outlinewidth\":0,\"ticks\":\"\"}}}],\"histogram\":[{\"marker\":{\"pattern\":{\"fillmode\":\"overlay\",\"size\":10,\"solidity\":0.2}},\"type\":\"histogram\"}],\"scattergl\":[{\"type\":\"scattergl\",\"marker\":{\"colorbar\":{\"outlinewidth\":0,\"ticks\":\"\"}}}],\"scatter3d\":[{\"type\":\"scatter3d\",\"line\":{\"colorbar\":{\"outlinewidth\":0,\"ticks\":\"\"}},\"marker\":{\"colorbar\":{\"outlinewidth\":0,\"ticks\":\"\"}}}],\"scattermapbox\":[{\"type\":\"scattermapbox\",\"marker\":{\"colorbar\":{\"outlinewidth\":0,\"ticks\":\"\"}}}],\"scatterternary\":[{\"type\":\"scatterternary\",\"marker\":{\"colorbar\":{\"outlinewidth\":0,\"ticks\":\"\"}}}],\"scattercarpet\":[{\"type\":\"scattercarpet\",\"marker\":{\"colorbar\":{\"outlinewidth\":0,\"ticks\":\"\"}}}],\"carpet\":[{\"aaxis\":{\"endlinecolor\":\"#2a3f5f\",\"gridcolor\":\"white\",\"linecolor\":\"white\",\"minorgridcolor\":\"white\",\"startlinecolor\":\"#2a3f5f\"},\"baxis\":{\"endlinecolor\":\"#2a3f5f\",\"gridcolor\":\"white\",\"linecolor\":\"white\",\"minorgridcolor\":\"white\",\"startlinecolor\":\"#2a3f5f\"},\"type\":\"carpet\"}],\"table\":[{\"cells\":{\"fill\":{\"color\":\"#EBF0F8\"},\"line\":{\"color\":\"white\"}},\"header\":{\"fill\":{\"color\":\"#C8D4E3\"},\"line\":{\"color\":\"white\"}},\"type\":\"table\"}],\"barpolar\":[{\"marker\":{\"line\":{\"color\":\"#E5ECF6\",\"width\":0.5},\"pattern\":{\"fillmode\":\"overlay\",\"size\":10,\"solidity\":0.2}},\"type\":\"barpolar\"}],\"pie\":[{\"automargin\":true,\"type\":\"pie\"}]},\"layout\":{\"autotypenumbers\":\"strict\",\"colorway\":[\"#636efa\",\"#EF553B\",\"#00cc96\",\"#ab63fa\",\"#FFA15A\",\"#19d3f3\",\"#FF6692\",\"#B6E880\",\"#FF97FF\",\"#FECB52\"],\"font\":{\"color\":\"#2a3f5f\"},\"hovermode\":\"closest\",\"hoverlabel\":{\"align\":\"left\"},\"paper_bgcolor\":\"white\",\"plot_bgcolor\":\"#E5ECF6\",\"polar\":{\"bgcolor\":\"#E5ECF6\",\"angularaxis\":{\"gridcolor\":\"white\",\"linecolor\":\"white\",\"ticks\":\"\"},\"radialaxis\":{\"gridcolor\":\"white\",\"linecolor\":\"white\",\"ticks\":\"\"}},\"ternary\":{\"bgcolor\":\"#E5ECF6\",\"aaxis\":{\"gridcolor\":\"white\",\"linecolor\":\"white\",\"ticks\":\"\"},\"baxis\":{\"gridcolor\":\"white\",\"linecolor\":\"white\",\"ticks\":\"\"},\"caxis\":{\"gridcolor\":\"white\",\"linecolor\":\"white\",\"ticks\":\"\"}},\"coloraxis\":{\"colorbar\":{\"outlinewidth\":0,\"ticks\":\"\"}},\"colorscale\":{\"sequential\":[[0.0,\"#0d0887\"],[0.1111111111111111,\"#46039f\"],[0.2222222222222222,\"#7201a8\"],[0.3333333333333333,\"#9c179e\"],[0.4444444444444444,\"#bd3786\"],[0.5555555555555556,\"#d8576b\"],[0.6666666666666666,\"#ed7953\"],[0.7777777777777778,\"#fb9f3a\"],[0.8888888888888888,\"#fdca26\"],[1.0,\"#f0f921\"]],\"sequentialminus\":[[0.0,\"#0d0887\"],[0.1111111111111111,\"#46039f\"],[0.2222222222222222,\"#7201a8\"],[0.3333333333333333,\"#9c179e\"],[0.4444444444444444,\"#bd3786\"],[0.5555555555555556,\"#d8576b\"],[0.6666666666666666,\"#ed7953\"],[0.7777777777777778,\"#fb9f3a\"],[0.8888888888888888,\"#fdca26\"],[1.0,\"#f0f921\"]],\"diverging\":[[0,\"#8e0152\"],[0.1,\"#c51b7d\"],[0.2,\"#de77ae\"],[0.3,\"#f1b6da\"],[0.4,\"#fde0ef\"],[0.5,\"#f7f7f7\"],[0.6,\"#e6f5d0\"],[0.7,\"#b8e186\"],[0.8,\"#7fbc41\"],[0.9,\"#4d9221\"],[1,\"#276419\"]]},\"xaxis\":{\"gridcolor\":\"white\",\"linecolor\":\"white\",\"ticks\":\"\",\"title\":{\"standoff\":15},\"zerolinecolor\":\"white\",\"automargin\":true,\"zerolinewidth\":2},\"yaxis\":{\"gridcolor\":\"white\",\"linecolor\":\"white\",\"ticks\":\"\",\"title\":{\"standoff\":15},\"zerolinecolor\":\"white\",\"automargin\":true,\"zerolinewidth\":2},\"scene\":{\"xaxis\":{\"backgroundcolor\":\"#E5ECF6\",\"gridcolor\":\"white\",\"linecolor\":\"white\",\"showbackground\":true,\"ticks\":\"\",\"zerolinecolor\":\"white\",\"gridwidth\":2},\"yaxis\":{\"backgroundcolor\":\"#E5ECF6\",\"gridcolor\":\"white\",\"linecolor\":\"white\",\"showbackground\":true,\"ticks\":\"\",\"zerolinecolor\":\"white\",\"gridwidth\":2},\"zaxis\":{\"backgroundcolor\":\"#E5ECF6\",\"gridcolor\":\"white\",\"linecolor\":\"white\",\"showbackground\":true,\"ticks\":\"\",\"zerolinecolor\":\"white\",\"gridwidth\":2}},\"shapedefaults\":{\"line\":{\"color\":\"#2a3f5f\"}},\"annotationdefaults\":{\"arrowcolor\":\"#2a3f5f\",\"arrowhead\":0,\"arrowwidth\":1},\"geo\":{\"bgcolor\":\"white\",\"landcolor\":\"#E5ECF6\",\"subunitcolor\":\"white\",\"showland\":true,\"showlakes\":true,\"lakecolor\":\"white\"},\"title\":{\"x\":0.05},\"mapbox\":{\"style\":\"light\"}}},\"title\":{\"text\":\"Step-length Distribution for L\\u00e9vy Walks with Different Alphas\"},\"xaxis\":{\"title\":{\"text\":\"Step Length\"}},\"yaxis\":{\"title\":{\"text\":\"Density\"}},\"barmode\":\"overlay\"},                        {\"responsive\": true}                    ).then(function(){\n",
              "                            \n",
              "var gd = document.getElementById('4b11d5f9-6142-4bdf-9e3e-cd76a4bc5c27');\n",
              "var x = new MutationObserver(function (mutations, observer) {{\n",
              "        var display = window.getComputedStyle(gd).display;\n",
              "        if (!display || display === 'none') {{\n",
              "            console.log([gd, 'removed!']);\n",
              "            Plotly.purge(gd);\n",
              "            observer.disconnect();\n",
              "        }}\n",
              "}});\n",
              "\n",
              "// Listen for the removal of the full notebook cells\n",
              "var notebookContainer = gd.closest('#notebook-container');\n",
              "if (notebookContainer) {{\n",
              "    x.observe(notebookContainer, {childList: true});\n",
              "}}\n",
              "\n",
              "// Listen for the clearing of the current output cell\n",
              "var outputEl = gd.closest('.output');\n",
              "if (outputEl) {{\n",
              "    x.observe(outputEl, {childList: true});\n",
              "}}\n",
              "\n",
              "                        })                };                            </script>        </div>\n",
              "</body>\n",
              "</html>"
            ]
          },
          "metadata": {}
        }
      ]
    }
  ]
}