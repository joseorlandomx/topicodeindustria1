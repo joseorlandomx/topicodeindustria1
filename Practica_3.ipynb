{
  "nbformat": 4,
  "nbformat_minor": 0,
  "metadata": {
    "colab": {
      "provenance": [],
      "collapsed_sections": [
        "MyqRStKRATjg",
        "IBFlQnj4AYbj",
        "7vUh6Kt6AhCf",
        "rrkrvRho6Jus",
        "VSvyeXgR65qF"
      ],
      "authorship_tag": "ABX9TyOFo7nvX43vVKtb6G+ImkzJ",
      "include_colab_link": true
    },
    "kernelspec": {
      "name": "python3",
      "display_name": "Python 3"
    },
    "language_info": {
      "name": "python"
    }
  },
  "cells": [
    {
      "cell_type": "markdown",
      "metadata": {
        "id": "view-in-github",
        "colab_type": "text"
      },
      "source": [
        "<a href=\"https://colab.research.google.com/github/joseorlandomx/topicodeindustria1/blob/main/Practica_3.ipynb\" target=\"_parent\"><img src=\"https://colab.research.google.com/assets/colab-badge.svg\" alt=\"Open In Colab\"/></a>"
      ]
    },
    {
      "cell_type": "markdown",
      "source": [
        "# **Práctica 3**\n",
        "\n",
        "José Orlando Salas Contreras (208743738)\n",
        "\n",
        "[jose.salas4373@alumnos.udg.mx](mailto:jose.salas4373@alumnos.udg.mx)\n",
        "\n",
        "**Requisitos mínimos:**\n",
        "* **Actividad 1:** Path-length - (BM1 vs BM2 vs CRW) (4 pts)\n",
        "* **Actividad 2:** Mean Squared Displacement - (BM vs CRW) (4 pts)\n",
        "* **Actividad 3:** Turning-angle Distribution - (Dist. origen vs Dist. observada) (6 pts)\n",
        "* **Actividad 4:** Step-length Distribution - (Dist. origen vs Dist. observada) (6 pts)\n",
        "\n",
        "**Revisión de la práctica:**\n",
        "* El notebook con la práctica se entregará en un repositorio en **GitHub**. Será necesario demostrar por medio de commits el historial de versiones de su NoteBook.\n",
        "* El estudiante deberá ser capaz de explicar su código y de corregir errores introducidos a este."
      ],
      "metadata": {
        "id": "LQ-22v0q_098"
      }
    },
    {
      "cell_type": "markdown",
      "source": [
        "## Modules"
      ],
      "metadata": {
        "id": "MyqRStKRATjg"
      }
    },
    {
      "cell_type": "code",
      "source": [
        "import math\n",
        "import os\n",
        "import numpy as np\n",
        "import pandas as pd\n",
        "import plotly.graph_objects as go\n",
        "from scipy.stats import wrapcauchy\n",
        "from scipy.stats import levy_stable\n",
        "from scipy.spatial import distance"
      ],
      "metadata": {
        "id": "bT_kFAAkAQvM"
      },
      "execution_count": 225,
      "outputs": []
    },
    {
      "cell_type": "markdown",
      "source": [
        "## Classes"
      ],
      "metadata": {
        "id": "IBFlQnj4AYbj"
      }
    },
    {
      "cell_type": "code",
      "source": [
        "# Nota: Esta clase la importaremos junto con el segundo bloque de modulos\n",
        "################# http://www.pygame.org/wiki/2DVectorClass ##################\n",
        "class Vec2d(object):\n",
        "    \"\"\"2d vector class, supports vector and scalar operators,\n",
        "       and also provides a bunch of high level functions\n",
        "       \"\"\"\n",
        "    __slots__ = ['x', 'y']\n",
        "\n",
        "    def __init__(self, x_or_pair, y = None):\n",
        "        if y == None:\n",
        "            self.x = x_or_pair[0]\n",
        "            self.y = x_or_pair[1]\n",
        "        else:\n",
        "            self.x = x_or_pair\n",
        "            self.y = y\n",
        "\n",
        "    # Addition\n",
        "    def __add__(self, other):\n",
        "        if isinstance(other, Vec2d):\n",
        "            return Vec2d(self.x + other.x, self.y + other.y)\n",
        "        elif hasattr(other, \"__getitem__\"):\n",
        "            return Vec2d(self.x + other[0], self.y + other[1])\n",
        "        else:\n",
        "            return Vec2d(self.x + other, self.y + other)\n",
        "\n",
        "    # Subtraction\n",
        "    def __sub__(self, other):\n",
        "        if isinstance(other, Vec2d):\n",
        "            return Vec2d(self.x - other.x, self.y - other.y)\n",
        "        elif (hasattr(other, \"__getitem__\")):\n",
        "            return Vec2d(self.x - other[0], self.y - other[1])\n",
        "        else:\n",
        "            return Vec2d(self.x - other, self.y - other)\n",
        "\n",
        "    # Vector length\n",
        "    def get_length(self):\n",
        "        return math.sqrt(self.x**2 + self.y**2)\n",
        "\n",
        "    # rotate vector\n",
        "    def rotated(self, angle):\n",
        "        cos = math.cos(angle)\n",
        "        sin = math.sin(angle)\n",
        "        x = self.x*cos - self.y*sin\n",
        "        y = self.x*sin + self.y*cos\n",
        "        return Vec2d(x, y)"
      ],
      "metadata": {
        "id": "Goy6Cwj5AaUm"
      },
      "execution_count": 61,
      "outputs": []
    },
    {
      "cell_type": "markdown",
      "source": [
        "## **Actividad 1: Path-length - (BM1 vs BM2 vs CRW) (4 pts)**\n",
        "* Implementar función que genere **Brownian Motions (BM)** utilizando **pandas**.\n",
        "* Implementar función que genere **Correlated Random Walks (CRW)** utilizando **pandas**.\n",
        "* Implementar una **función** alternativa a las ya disponibles en los distintos modulos de python que calcule los valores de la curva de **path length** de una trayectoria.\n",
        "* Guardar los valores de la métrica en un Data Frame de **pandas**.\n",
        "* Visualizar con **plotly**."
      ],
      "metadata": {
        "id": "7vUh6Kt6AhCf"
      }
    },
    {
      "cell_type": "markdown",
      "source": [
        "### **Actividad 1** con Brownian Motions y Correlated Random Walks generados con funciones"
      ],
      "metadata": {
        "id": "rrkrvRho6Jus"
      }
    },
    {
      "cell_type": "code",
      "source": [
        "# Función para generar Brownian Motions (BM) con Pandas\n",
        "def bm_2d(n_steps=1000, speed=5, s_pos=[0,0]):\n",
        "  \"\"\"\n",
        "  Arguments:\n",
        "    n_steps:\n",
        "    speed:\n",
        "    s_pos:\n",
        "  Returns:\n",
        "    BM_2d_df:\n",
        "  \"\"\"\n",
        "\n",
        "  # Init velocity vector\n",
        "  velocity = Vec2d(speed, 0)\n",
        "\n",
        "  BM_2d_df = pd.DataFrame(columns = ['x_pos', 'y_pos'])\n",
        "  temp_df = pd.DataFrame([{'x_pos': s_pos[0], 'y_pos': s_pos[1]}])\n",
        "\n",
        "  BM_2d_df = pd.concat([BM_2d_df, temp_df], ignore_index=True)\n",
        "\n",
        "  for i in range(n_steps-1):\n",
        "    turn_angle = np.random.uniform(low=-np.pi, high=np.pi)\n",
        "    velocity = velocity.rotated(turn_angle)\n",
        "\n",
        "    temp_df = pd.DataFrame([{'x_pos': BM_2d_df.x_pos[i]+velocity.x, 'y_pos': BM_2d_df.y_pos[i]+velocity.y}])\n",
        "\n",
        "    BM_2d_df = pd.concat([BM_2d_df, temp_df], ignore_index=True)\n",
        "\n",
        "  return BM_2d_df"
      ],
      "metadata": {
        "id": "ywqwPg8Ew-hv"
      },
      "execution_count": 147,
      "outputs": []
    },
    {
      "cell_type": "code",
      "source": [
        "# Función para generar Correlated Random Walks (CRW) con pandas\n",
        "def generate_crw(n_steps, alpha, beta, start=(0, 0)):\n",
        "    \"\"\"\n",
        "    Genera Correlated Random Walks (CRW) utilizando pandas.\n",
        "\n",
        "    Parameters:\n",
        "    - n_steps (int): Número de pasos en la caminata.\n",
        "    - alpha (float): Parámetro de escala para la distribución normal que afecta los cambios en x.\n",
        "    - beta (float): Parámetro de escala para la distribución normal que afecta los cambios en y.\n",
        "    - start (tuple): Coordenadas iniciales (por defecto, (0, 0)).\n",
        "\n",
        "    Returns:\n",
        "    - pandas.DataFrame: DataFrame con las coordenadas x e y de la caminata.\n",
        "    \"\"\"\n",
        "    np.random.seed(42)  # Fijar semilla para reproducibilidad\n",
        "\n",
        "    # Inicializar el DataFrame\n",
        "    crw_df = pd.DataFrame(index=range(n_steps), columns=['x_pos', 'y_pos'])\n",
        "\n",
        "    # Establecer las coordenadas iniciales\n",
        "    crw_df.loc[0] = start\n",
        "\n",
        "    # Generar la CRW\n",
        "    for i in range(1, n_steps):\n",
        "        dx = np.random.normal(0, alpha)\n",
        "        dy = beta * crw_df['x_pos'][i - 1] + np.random.normal(0, 1)\n",
        "\n",
        "        crw_df.loc[i, 'x_pos'] = crw_df['x_pos'][i - 1] + dx\n",
        "        crw_df.loc[i, 'y_pos'] = crw_df['y_pos'][i - 1] + dy\n",
        "\n",
        "    return crw_df"
      ],
      "metadata": {
        "id": "zIWCzRTZxHgH"
      },
      "execution_count": 148,
      "outputs": []
    },
    {
      "cell_type": "code",
      "source": [
        "# BM con vel 3\n",
        "BM_2d_df_3 = bm_2d(1000, 3, [0,0])\n",
        "\n",
        "# BM con vel 6\n",
        "BM_2d_df_6 = bm_2d(1000, 6, [0,0])\n",
        "\n",
        "# CRW con alpha 0.1 y beta 0.3\n",
        "CRW_2d_df_9 = generate_crw(1000, 0.1, 0.3, [0,0])"
      ],
      "metadata": {
        "id": "22__5lJnssbg"
      },
      "execution_count": 149,
      "outputs": []
    },
    {
      "cell_type": "code",
      "source": [
        "# Calcular distancia entre detecciones consecutivos\n",
        "dis_BM_3 = np.array([distance.euclidean(BM_2d_df_3.iloc[i-1],BM_2d_df_3.iloc[i]) for i in range(1,BM_2d_df_3.shape[0])])\n",
        "# Calculo del path length\n",
        "pl_BM_3 = np.cumsum(dis_BM_3)\n",
        "\n",
        "# Calcular distancia entre detecciones consecutivas\n",
        "dis_BM_6 = np.array([distance.euclidean(BM_2d_df_6.iloc[i-1],BM_2d_df_6.iloc[i]) for i in range(1,BM_2d_df_6.shape[0])])\n",
        "# Calculo del path length\n",
        "pl_BM_6 = np.cumsum(dis_BM_6)\n",
        "\n",
        "# Calcular distancia entre detecciones consecutivas\n",
        "dis_CRW_6 = np.array([distance.euclidean(CRW_2d_df_9.iloc[i-1],CRW_2d_df_9.iloc[i]) for i in range(1,CRW_2d_df_9.shape[0])])\n",
        "# Calculo del path length\n",
        "pl_CRW_6 = np.cumsum(dis_CRW_6)"
      ],
      "metadata": {
        "id": "H2C8Aupt61PP"
      },
      "execution_count": null,
      "outputs": []
    },
    {
      "cell_type": "code",
      "source": [
        "# Inicializamos la gráfica\n",
        "fig_path_length = go.Figure()\n",
        "\n",
        "# Trazamos el Brownian Motion con velocidad 3 (BM_3)\n",
        "fig_path_length.add_trace(go.Scatter(\n",
        "    x = np.arange(len(pl_BM_3))+1,\n",
        "    y = pl_BM_3,\n",
        "    line = dict(width = 2, color = 'green'),\n",
        "    name = 'path_length_BM_3',\n",
        "    showlegend = True\n",
        "))\n",
        "\n",
        "# Trazamos el Brownian Motion con velocidad 6 (BM_6)\n",
        "fig_path_length.add_trace(go.Scatter(\n",
        "    x = np.arange(len(pl_BM_6))+1,\n",
        "    y = pl_BM_6,\n",
        "    line = dict(width = 6, color = 'red'),\n",
        "    name = 'path_length_BM_6',\n",
        "    showlegend = True\n",
        "))\n",
        "\n",
        "# Trazamos el Correlated Random Walks (CRW6)\n",
        "fig_path_length.add_trace(go.Scatter(\n",
        "    x = np.arange(len(pl_CRW_6))+1,\n",
        "    y = pl_CRW_6,\n",
        "    line = dict(width = 2, color = 'yellow'),\n",
        "    name = 'path_length_CRW_6',\n",
        "    showlegend = True\n",
        "))\n",
        "\n",
        "# Personaliamos las títulos de los ejes de la gráfica\n",
        "fig_path_length.update_layout(title='Brownian Motion and CRW - Path Length',\n",
        "                              xaxis_title='Step',\n",
        "                              yaxis_title='Normalized Length')  # Actualizado el título del eje y\n",
        "\n",
        "# Mostramos la gráfica\n",
        "fig_path_length.show()"
      ],
      "metadata": {
        "id": "ZYAPyOQbxd2H"
      },
      "execution_count": null,
      "outputs": []
    },
    {
      "cell_type": "markdown",
      "source": [
        "### **Actividad 1** con Brownian Motions y Correlated Random Walks cargados desde archivos CSV"
      ],
      "metadata": {
        "id": "VSvyeXgR65qF"
      }
    },
    {
      "cell_type": "code",
      "source": [
        "# Función para convertir valores del DataFrame de string a numéricos\n",
        "def convert_to_numeric(trajectory):\n",
        "    # Convertir las columnas 'x_pos' e 'y_pos' a numérico\n",
        "    trajectory['x_pos'] = pd.to_numeric(trajectory['x_pos'], errors='coerce')\n",
        "    trajectory['y_pos'] = pd.to_numeric(trajectory['y_pos'], errors='coerce')\n",
        "    return trajectory\n",
        "\n",
        "# Función para obtener los valores del path length (distancia y longitud)\n",
        "def get_path_length(trajectory):\n",
        "    #trajectory = convert_to_numeric(trajectory)\n",
        "    distance = [np.linalg.norm(trajectory.iloc[i-1] - trajectory.iloc[i]) for i in range(1, trajectory.shape[0])]\n",
        "    length = np.cumsum(distance)\n",
        "    return distance, length"
      ],
      "metadata": {
        "id": "9Y9h8wZH0AzP"
      },
      "execution_count": 137,
      "outputs": []
    },
    {
      "cell_type": "code",
      "source": [
        "# Cargamos las trayectorias desde los archivos CSV y obtenemos sus path lengths con la función\n",
        "\n",
        "# Trayectoria Brownian Motion con velocidad 3\n",
        "BM_2d_df_3 = pd.read_csv('trajectories/brownian_3.csv')\n",
        "PL_BM_3 = get_path_length(BM_2d_df_3)\n",
        "\n",
        "# Trayectoria Brownian Motion con velocidad 6\n",
        "BM_2d_df_6 = pd.read_csv('trajectories/brownian_6.csv')\n",
        "PL_BM_6 = get_path_length(BM_2d_df_6)\n",
        "\n",
        "# Trayectoria Correlated Random Walks\n",
        "CRW_2d_df_9 = pd.read_csv('trajectories/crw_6_9.csv')\n",
        "PL_CRW_6 = get_path_length(CRW_2d_df_9)"
      ],
      "metadata": {
        "id": "yE5XlhxHz9J3"
      },
      "execution_count": 134,
      "outputs": []
    },
    {
      "cell_type": "code",
      "source": [
        "# Normalizamos las longitudes acumulativas para hacer que todas las líneas sean visibles\n",
        "max_length = max(max(PL_BM_3[1]), max(PL_BM_6[1]), max(PL_CRW_6[1]))\n",
        "\n",
        "# Inicializamos la gráfica\n",
        "fig_path_length = go.Figure()\n",
        "\n",
        "# Trazamos el Brownian Motion con velocidad 3 (BM_3)\n",
        "fig_path_length.add_trace(go.Scatter(x=np.arange(1, len(PL_BM_3[1]) + 1), y=PL_BM_3[1]/max_length,\n",
        "                                     mode='lines',\n",
        "                                     name='Path Length BM3', line = dict(width = 2, color = 'green'),\n",
        "                                     showlegend = True))\n",
        "\n",
        "# Trazamos el Brownian Motion con velocidad 6 (BM_6)\n",
        "fig_path_length.add_trace(go.Scatter(x=np.arange(1, len(PL_BM_6[1]) + 1), y=PL_BM_6[1]/max_length,\n",
        "                                     mode='lines',\n",
        "                                     name='Path Length BM6', line = dict(width = 6, color = 'red'),\n",
        "                                     showlegend = True))\n",
        "\n",
        "# Trazamos el Correlated Random Walks (CRW6)\n",
        "fig_path_length.add_trace(go.Scatter(x=np.arange(1, len(PL_CRW_6[1]) + 1), y=PL_CRW_6[1]/max_length,\n",
        "                                     mode='lines',\n",
        "                                     name='Path Length CRW6', line=dict(width = 2, color = 'yellow'),\n",
        "                                     showlegend = True))\n",
        "\n",
        "# Personaliamos las títulos de los ejes de la gráfica\n",
        "fig_path_length.update_layout(title='Brownian Motion and CRW - Path Length',\n",
        "                              xaxis_title='Step',\n",
        "                              yaxis_title='Normalized Length')  # Actualizado el título del eje y\n",
        "\n",
        "# Mostramos la gráfica\n",
        "fig_path_length.show()"
      ],
      "metadata": {
        "id": "w__kXZ_v3PuY"
      },
      "execution_count": null,
      "outputs": []
    },
    {
      "cell_type": "markdown",
      "source": [
        "## **Actividad 2: Mean Squared Displacement - (BM vs CRW) (4 pts)**\n",
        "* Generar una trayectoria tipo **BM** y una **CRW**.\n",
        "* Implementar una función que calcule los valores de la curva de **mean squared displacement** de una trayectoria.\n",
        "* Guardar metricas en **Pandas** Data Frame.\n",
        "* Visualizar con **plotly**."
      ],
      "metadata": {
        "id": "ZqGJcuYpDW-2"
      }
    },
    {
      "cell_type": "code",
      "source": [
        "# Trayectoria Brownian Motion (BM)\n",
        "BM_trajectory = pd.read_csv('trajectories/brownian_3.csv')\n",
        "\n",
        "# Trayectoria Correlated Random Walks (CRW)\n",
        "CRW_trajectory = pd.read_csv('trajectories/crw_6_9.csv')"
      ],
      "metadata": {
        "id": "arwMOYTMQFc0"
      },
      "execution_count": 217,
      "outputs": []
    },
    {
      "cell_type": "code",
      "source": [
        "# Función para calcular MSD (Mean Squared Displacement)\n",
        "def calculate_msd(trajectory):\n",
        "    # Lista para almacenar los valores de MSD\n",
        "    msd_values = []\n",
        "\n",
        "    # Iterar desde tau=1 hasta el tamaño total de la trayectoria\n",
        "    for tau in range(1, trajectory.shape[0]):\n",
        "\n",
        "        # Calcular los desplazamientos en las coordenadas x e y\n",
        "        displacement_x = trajectory['x_pos'].values[tau:] - trajectory['x_pos'].values[:-tau]\n",
        "        displacement_y = trajectory['y_pos'].values[tau:] - trajectory['y_pos'].values[:-tau]\n",
        "\n",
        "        # Calcular el cuadrado del desplazamiento\n",
        "        squared_displacement = displacement_x**2 + displacement_y**2\n",
        "\n",
        "        # Calcular el valor medio del cuadrado del desplazamiento\n",
        "        msd = np.mean(squared_displacement)\n",
        "\n",
        "        # Agregar el valor de MSD a la lista\n",
        "        msd_values.append(msd)\n",
        "\n",
        "    # Devolver la lista de valores de MSD\n",
        "    return msd_values"
      ],
      "metadata": {
        "id": "URCzBsp7QJqF"
      },
      "execution_count": 218,
      "outputs": []
    },
    {
      "cell_type": "code",
      "source": [
        "# Calcular los valores de la curva de mean squared displacement\n",
        "MSD_BM = calculate_msd(BM_trajectory)\n",
        "MSD_CRW = calculate_msd(CRW_trajectory)\n",
        "\n",
        "# Guardar métricas en Pandas Data Frame\n",
        "msd_metrics = pd.DataFrame({\n",
        "    'TAU': range(1, len(MSD_BM) + 1),\n",
        "    'MSD_BM': MSD_BM,\n",
        "    'MSD_CRW': MSD_CRW\n",
        "})\n",
        "\n",
        "# Exportar métricas a un archivo CSV\n",
        "msd_metrics.to_csv('trajectories/actividad2_metrics.csv', index=False)\n",
        "\n",
        "# Leer el archivo CSV exportado\n",
        "msd_df = pd.read_csv('trajectories/actividad2_metrics.csv')\n",
        "\n",
        "# Eliminamos el archivo temporal\n",
        "os.remove(\"trajectories/actividad2_metrics.csv\")"
      ],
      "metadata": {
        "id": "cjyb0609Cqj9"
      },
      "execution_count": 229,
      "outputs": []
    },
    {
      "cell_type": "code",
      "source": [
        "# Inicializamos la gráfica\n",
        "fig = go.Figure()\n",
        "\n",
        "# Añadimos una traza (trace) para MSD de Brownian Motion (BM)\n",
        "fig.add_trace(go.Scatter(\n",
        "    x=msd_df['TAU'],            # Eje X: Valores de tau\n",
        "    y=msd_df['MSD_BM'],          # Eje Y: Valores de MSD para BM\n",
        "    mode='lines',               # Modo de la traza: líneas\n",
        "    name='MSD BM'                # Etiqueta de la traza\n",
        "))\n",
        "\n",
        "# Añadimos otra traza para MSD de Correlated Random Walks (CRW)\n",
        "fig.add_trace(go.Scatter(\n",
        "    x=msd_df['TAU'],            # Eje X: Valores de tau\n",
        "    y=msd_df['MSD_CRW'],         # Eje Y: Valores de MSD para CRW\n",
        "    mode='lines',               # Modo de la traza: líneas\n",
        "    name='MSD CRW'               # Etiqueta de la traza\n",
        "))\n",
        "\n",
        "# Personalizamos los títulos de los ejes de la gráfica\n",
        "fig.update_layout(\n",
        "    title='Mean Squared Displacement (Brownian Motion vs Correlated Random Walks)',  # Título de la gráfica\n",
        "    xaxis_title='TAU',           # Título del eje X\n",
        "    yaxis_title='Mean Squared Displacement (MSD)'  # Título del eje Y\n",
        ")\n",
        "\n",
        "# Mostramos la gráfica\n",
        "fig.show()"
      ],
      "metadata": {
        "colab": {
          "base_uri": "https://localhost:8080/",
          "height": 542
        },
        "id": "9C3Q8gSAQjSb",
        "outputId": "44dff992-0281-4a21-b067-79af14522fcf"
      },
      "execution_count": 230,
      "outputs": [
        {
          "output_type": "display_data",
          "data": {
            "text/html": [
              "<html>\n",
              "<head><meta charset=\"utf-8\" /></head>\n",
              "<body>\n",
              "    <div>            <script src=\"https://cdnjs.cloudflare.com/ajax/libs/mathjax/2.7.5/MathJax.js?config=TeX-AMS-MML_SVG\"></script><script type=\"text/javascript\">if (window.MathJax && window.MathJax.Hub && window.MathJax.Hub.Config) {window.MathJax.Hub.Config({SVG: {font: \"STIX-Web\"}});}</script>                <script type=\"text/javascript\">window.PlotlyConfig = {MathJaxConfig: 'local'};</script>\n",
              "        <script charset=\"utf-8\" src=\"https://cdn.plot.ly/plotly-2.24.1.min.js\"></script>                <div id=\"85142fe2-8126-45c8-81b8-13d949d7f54f\" class=\"plotly-graph-div\" style=\"height:525px; width:100%;\"></div>            <script type=\"text/javascript\">                                    window.PLOTLYENV=window.PLOTLYENV || {};                                    if (document.getElementById(\"85142fe2-8126-45c8-81b8-13d949d7f54f\")) {                    Plotly.newPlot(                        \"85142fe2-8126-45c8-81b8-13d949d7f54f\",                        [{\"mode\":\"lines\",\"name\":\"MSD BM\",\"x\":[1,2,3,4,5,6,7,8,9,10,11,12,13,14,15,16,17,18,19,20,21,22,23,24,25,26,27,28,29,30,31,32,33,34,35,36,37,38,39,40,41,42,43,44,45,46,47,48,49,50,51,52,53,54,55,56,57,58,59,60,61,62,63,64,65,66,67,68,69,70,71,72,73,74,75,76,77,78,79,80,81,82,83,84,85,86,87,88,89,90,91,92,93,94,95,96,97,98,99,100,101,102,103,104,105,106,107,108,109,110,111,112,113,114,115,116,117,118,119,120,121,122,123,124,125,126,127,128,129,130,131,132,133,134,135,136,137,138,139,140,141,142,143,144,145,146,147,148,149,150,151,152,153,154,155,156,157,158,159,160,161,162,163,164,165,166,167,168,169,170,171,172,173,174,175,176,177,178,179,180,181,182,183,184,185,186,187,188,189,190,191,192,193,194,195,196,197,198,199,200,201,202,203,204,205,206,207,208,209,210,211,212,213,214,215,216,217,218,219,220,221,222,223,224,225,226,227,228,229,230,231,232,233,234,235,236,237,238,239,240,241,242,243,244,245,246,247,248,249,250,251,252,253,254,255,256,257,258,259,260,261,262,263,264,265,266,267,268,269,270,271,272,273,274,275,276,277,278,279,280,281,282,283,284,285,286,287,288,289,290,291,292,293,294,295,296,297,298,299,300,301,302,303,304,305,306,307,308,309,310,311,312,313,314,315,316,317,318,319,320,321,322,323,324,325,326,327,328,329,330,331,332,333,334,335,336,337,338,339,340,341,342,343,344,345,346,347,348,349,350,351,352,353,354,355,356,357,358,359,360,361,362,363,364,365,366,367,368,369,370,371,372,373,374,375,376,377,378,379,380,381,382,383,384,385,386,387,388,389,390,391,392,393,394,395,396,397,398,399,400,401,402,403,404,405,406,407,408,409,410,411,412,413,414,415,416,417,418,419,420,421,422,423,424,425,426,427,428,429,430,431,432,433,434,435,436,437,438,439,440,441,442,443,444,445,446,447,448,449,450,451,452,453,454,455,456,457,458,459,460,461,462,463,464,465,466,467,468,469,470,471,472,473,474,475,476,477,478,479,480,481,482,483,484,485,486,487,488,489,490,491,492,493,494,495,496,497,498,499,500,501,502,503,504,505,506,507,508,509,510,511,512,513,514,515,516,517,518,519,520,521,522,523,524,525,526,527,528,529,530,531,532,533,534,535,536,537,538,539,540,541,542,543,544,545,546,547,548,549,550,551,552,553,554,555,556,557,558,559,560,561,562,563,564,565,566,567,568,569,570,571,572,573,574,575,576,577,578,579,580,581,582,583,584,585,586,587,588,589,590,591,592,593,594,595,596,597,598,599,600,601,602,603,604,605,606,607,608,609,610,611,612,613,614,615,616,617,618,619,620,621,622,623,624,625,626,627,628,629,630,631,632,633,634,635,636,637,638,639,640,641,642,643,644,645,646,647,648,649,650,651,652,653,654,655,656,657,658,659,660,661,662,663,664,665,666,667,668,669,670,671,672,673,674,675,676,677,678,679,680,681,682,683,684,685,686,687,688,689,690,691,692,693,694,695,696,697,698,699,700,701,702,703,704,705,706,707,708,709,710,711,712,713,714,715,716,717,718,719,720,721,722,723,724,725,726,727,728,729,730,731,732,733,734,735,736,737,738,739,740,741,742,743,744,745,746,747,748,749,750,751,752,753,754,755,756,757,758,759,760,761,762,763,764,765,766,767,768,769,770,771,772,773,774,775,776,777,778,779,780,781,782,783,784,785,786,787,788,789,790,791,792,793,794,795,796,797,798,799,800,801,802,803,804,805,806,807,808,809,810,811,812,813,814,815,816,817,818,819,820,821,822,823,824,825,826,827,828,829,830,831,832,833,834,835,836,837,838,839,840,841,842,843,844,845,846,847,848,849,850,851,852,853,854,855,856,857,858,859,860,861,862,863,864,865,866,867,868,869,870,871,872,873,874,875,876,877,878,879,880,881,882,883,884,885,886,887,888,889,890,891,892,893,894,895,896,897,898,899,900,901,902,903,904,905,906,907,908,909,910,911,912,913,914,915,916,917,918,919,920,921,922,923,924,925,926,927,928,929,930,931,932,933,934,935,936,937,938,939,940,941,942,943,944,945,946,947,948,949,950,951,952,953,954,955,956,957,958,959,960,961,962,963,964,965,966,967,968,969,970,971,972,973,974,975,976,977,978,979,980,981,982,983,984,985,986,987,988,989,990,991,992,993,994,995,996,997,998,999],\"y\":[9.000000000000025,18.222423276468607,27.38451922848007,36.4524817519381,45.688117563989294,54.90303911621804,64.35276811825806,74.19028913487664,83.39691389159039,92.17868460172409,100.82108253620729,109.03111612123298,117.38537442088088,126.5491135553938,136.1155048648969,145.96661199805428,156.15462605495048,166.3052150682957,176.82668301341704,187.4081923845088,197.3347547101792,207.1575292178578,217.19395267002773,227.58098004965183,237.08014875056463,246.7430874487576,256.365942255255,266.0960104855039,276.2120869619844,286.9956161325192,298.06452026115,309.2245442947609,321.270480871596,332.98143328925715,345.1165474781032,357.4393215055196,369.33457803822927,381.34681697460303,393.53271732937947,405.9776368432632,418.1462856652702,430.6614707083935,444.2078977530214,457.8310739613006,471.34387124349934,485.09396160794313,498.6214056535075,512.4123828752705,526.1860454257126,540.1848266638656,553.7716964783885,567.5092425793173,581.3057617365564,595.3783426120842,609.8520512662913,624.6352547366293,639.3871708485574,654.8459601198423,669.2944201223166,683.5833760892484,698.1264342807093,712.3728063958571,726.4676867768786,740.9258554068645,755.296596808987,769.5387389428581,783.3981422386447,797.1868078431518,811.2415492591582,825.5476967256149,840.1714600211193,854.2997793137434,868.8449506746014,883.5064290001143,897.9973514052202,912.7599503033874,927.892949502742,942.6926694189814,957.678609913894,972.4104106010852,987.957385063422,1004.3415542121368,1020.6363191961348,1037.5514880326436,1053.7892869034276,1070.0378445496929,1085.651667302327,1100.810237383696,1116.245991604747,1131.1457446265097,1146.3313733702075,1161.044011402809,1175.0232720625795,1189.6383385087893,1204.0824547920224,1218.2446517617095,1231.8500099218188,1245.517592024739,1259.3727776159317,1273.2258514387042,1287.7994944708566,1301.8267057906169,1315.4120449689988,1329.1365608203903,1343.0799373692985,1357.0633727138777,1371.0334314898876,1385.1327421800734,1398.5062163509783,1411.264399929035,1423.2379210700303,1435.216129470908,1447.5102745968447,1459.3701340508076,1470.6865944601673,1481.5473607584424,1491.8060658372328,1501.606645882301,1511.0512495413416,1520.951126079373,1531.053659154907,1541.062751221344,1551.7377127795587,1563.092530703857,1574.2389079082038,1585.726829062351,1597.668984513159,1610.0522020453209,1622.440043179378,1634.5659338033454,1645.527747840786,1656.2776787672328,1667.1084384949909,1677.9765321545078,1688.4905224582503,1699.5346591748628,1710.1206887244343,1720.6515773657288,1731.0918020227211,1742.471675279501,1753.605340385223,1765.195219441856,1777.37029303291,1788.8366063011326,1800.4627804101156,1811.95775493965,1823.0670599956272,1833.3691578306536,1843.9290273565796,1853.8082074397755,1863.547663914984,1874.00653237535,1884.240719509931,1894.3040875338772,1905.388629304217,1917.6454883093843,1929.7585354433525,1942.180273477652,1954.693212279404,1966.9437534879544,1979.5272179252408,1991.5893735135253,2003.1764526353056,2014.384508940413,2025.635322689066,2036.3537046479676,2046.4611493298744,2056.8606110047663,2066.297404916457,2076.039493027698,2085.1731576033208,2094.6618612222533,2103.601323684613,2112.5960566139483,2121.341328539862,2129.901998612292,2139.727226404869,2149.139743029899,2159.4882628350138,2169.563488504303,2179.965491075561,2190.493846511341,2199.7702432740684,2208.980498389524,2218.2212193245764,2227.610204903417,2237.257563523317,2246.0391590749423,2255.23451746858,2264.690974501889,2273.959255736936,2281.9623795064585,2289.4472748002568,2297.935353992094,2305.8628177499672,2314.2481838041986,2322.973045733266,2331.3953027384587,2339.0718951471126,2346.7676566985565,2354.4031000410773,2361.792866201117,2368.9264913813527,2376.3093051317846,2384.287299735574,2392.2803137320684,2399.919410613271,2408.247492638439,2417.5398860890714,2426.171008993599,2434.000328481404,2442.426569460929,2450.408426762752,2457.230775154294,2463.749187220102,2470.0956944326563,2475.6953038521333,2481.888176489299,2489.504524764592,2496.5649672720897,2504.2357761781905,2510.674425416396,2516.843080164607,2524.066687901693,2531.2164661903707,2538.304365559657,2544.285092008588,2549.3195109756416,2554.568850472152,2559.4043630582323,2565.2668452022644,2571.5808512954904,2578.6070515412275,2585.8864695167254,2593.99503323466,2602.0396160518017,2609.9940084326067,2617.654972387534,2625.5039499323702,2632.694303367144,2639.384570837793,2645.1355341353915,2651.0833513982584,2656.845109133549,2662.5350097558453,2669.3146918382217,2676.522639073756,2683.1694016342826,2689.3325698312096,2696.1977562458314,2703.7560051553837,2711.215099552795,2718.262176112712,2724.446031585451,2730.008125413874,2735.575018197585,2741.540683866807,2748.4588224080294,2755.132101479529,2761.399171066505,2767.83817979748,2774.881987231402,2782.7472402624867,2790.670503401526,2796.968876209079,2803.551958662369,2809.282101441789,2815.636510973984,2821.5606918698336,2826.913106928151,2832.500674374521,2838.884833944325,2845.1264841129087,2850.8736675247333,2857.2721530718763,2862.821821517876,2869.0789294726574,2875.9032803653045,2883.5292171835054,2890.4784482165364,2897.8387672056647,2904.7472541299035,2911.57597170111,2919.0059930652424,2925.9889041022248,2934.165034967746,2943.021335606478,2952.230095922588,2961.9869103965043,2971.3640330357944,2981.108543935524,2991.902813439334,3002.518815358924,3013.0690681943565,3022.9493771548305,3032.2794714784195,3041.130788407924,3049.9217065172547,3059.784948180415,3070.2906661739958,3080.555060141313,3089.4880418974763,3098.8462193073183,3108.1873263166,3116.779834254283,3125.5301384987465,3134.3785996306706,3142.966637857872,3151.0376119704542,3158.379982510708,3165.691703614833,3174.047385720852,3182.145897983185,3190.6176590871883,3199.4720424934176,3208.9926739803736,3219.0874540091686,3229.2491923814755,3240.4543677635893,3251.9002541863933,3263.672455279019,3275.060899218819,3286.370549377536,3297.0793293829056,3307.49818805479,3318.426067906477,3328.732058327542,3339.903144557463,3350.8045685979005,3361.1088281930465,3371.477858090575,3382.337303081229,3393.713171972281,3405.1765675493616,3417.048433473807,3428.816620180108,3440.040310178178,3452.9828945062677,3466.4729195977625,3479.76011204537,3492.8042390055257,3504.658821795903,3515.2788750622803,3526.5556322472885,3538.7413355407307,3552.3279411068643,3565.248836817754,3576.855423882183,3588.110839256856,3598.0335677245976,3608.555423423279,3617.775851927959,3627.920189502957,3637.226665949828,3647.155188271397,3657.241875779164,3668.7592340352544,3680.864504563631,3692.5300247313394,3705.6046813453368,3718.431894455349,3730.517329640321,3742.606739454671,3753.608199589687,3764.786767146928,3776.195589720471,3788.5015025301727,3801.0156156782496,3813.7000053397783,3827.711918639095,3840.282998560987,3853.614560117939,3867.561661070613,3882.614266214828,3898.867855164897,3914.502069760611,3928.610258412154,3940.809690129412,3954.2218145322176,3968.414817856279,3981.824353026262,3994.799643961741,4007.902237825885,4020.4373797869807,4033.674133469634,4047.522017391627,4060.467652935401,4073.7520846876814,4086.807694330429,4100.173334967293,4113.845714618384,4126.995647181826,4139.984271497089,4152.656890953718,4164.412029452744,4175.343202649542,4187.251241116844,4198.929193481635,4210.482936433852,4221.790255137827,4232.2716919092745,4242.915040632653,4253.050728795238,4263.830059810915,4274.490800648781,4284.052009809645,4293.27923339194,4303.288077549793,4313.675080671582,4324.525787996699,4335.993179321726,4347.261398873561,4359.284561932712,4371.318232663195,4383.123147385493,4395.671516646255,4407.8575676436585,4418.936787119947,4430.9420112284615,4442.910068497882,4454.92111697173,4466.559657734006,4478.251533797831,4489.692867230207,4501.405211498519,4512.968329118229,4524.191108702851,4535.691730213345,4545.979468689685,4554.887026442436,4563.334156729397,4572.150007733066,4580.10534922712,4588.104601942893,4595.321201025248,4602.654321684798,4609.726122943809,4617.540671963392,4625.652609363719,4634.65032305331,4643.205478008187,4653.135944936456,4663.498753693751,4673.953628966959,4683.5831594806905,4691.967749115609,4700.045090618638,4706.324716220604,4713.351083281775,4721.246362993258,4728.662585022434,4735.720118312173,4742.755433877154,4749.925119905739,4756.945246014328,4762.832166113062,4767.948716387079,4771.89731974972,4775.744369548223,4780.443061386411,4786.851370199484,4794.213465090211,4800.842248788904,4806.921362400238,4814.304132495827,4820.842867385358,4828.279306871296,4835.198855061925,4842.861232966574,4850.2892654004745,4855.943876727099,4862.132559454374,4869.166692209308,4876.224063928413,4881.23062223672,4885.13784856938,4890.732824289741,4898.069672934242,4904.9488734084325,4912.48571804945,4920.172655514429,4929.019575086047,4936.892937433715,4943.988252977247,4951.138433229514,4958.447595168258,4964.151805933589,4970.550039560874,4977.781420872264,4984.691009895748,4992.080555300845,5000.496642247602,5007.8919945443495,5016.123223548295,5025.488883071745,5035.453801684264,5046.330558184284,5055.610772977531,5064.8666041228125,5073.476412340248,5083.473208773383,5092.897646235934,5102.58436745898,5111.660923443808,5118.861117250684,5126.381108795749,5134.601534138155,5143.088374143974,5152.2320144487785,5161.442242832042,5172.242384800233,5184.3443127153205,5195.74330661953,5205.975047735856,5214.537021552631,5222.740293013493,5230.622182344852,5238.684450632508,5245.8284873259245,5253.587677948671,5261.364056811979,5271.047826388965,5282.220480204054,5294.777964400943,5306.654886612472,5316.395554394607,5325.919413386978,5335.469463271123,5343.189893121533,5350.91818847362,5357.618272449959,5364.915865391967,5372.272556094786,5382.154844832093,5392.294612368924,5401.972521437791,5413.399426953801,5424.276514466719,5436.863099547919,5449.332293737328,5462.755891581833,5475.707703908403,5489.743438919672,5503.231714487283,5515.075650998866,5526.57045530569,5538.899373158901,5551.721828631611,5563.883010499943,5574.524188147308,5586.867906757392,5599.304630745045,5612.394451869198,5625.576395936317,5636.794900907298,5647.61617044476,5659.423964644986,5670.711828887902,5682.618405771216,5695.715919205697,5708.722632988746,5721.971672783448,5734.947077851171,5748.175168325563,5760.533423185301,5773.805375269591,5785.4335752227535,5795.163037678592,5805.099088600675,5816.117381250482,5828.1757018505305,5840.240547838009,5850.630518244339,5862.567520386489,5875.54407762793,5890.538702314647,5906.568832070481,5924.034498582288,5941.277673752189,5956.436852280152,5971.810096499886,5987.416235117988,6002.901704423532,6018.7114107614125,6032.462137764192,6047.163207804611,6061.288303569581,6076.716454671133,6093.840743944679,6111.631411842724,6128.770768988683,6145.914158421135,6161.861936095978,6177.934244240624,6191.445839331926,6204.586933535515,6217.901589278567,6228.950579149758,6240.1373506724,6254.048902223006,6266.530709493662,6280.569710552638,6296.385721783325,6310.524761530475,6324.467667758959,6338.352528723,6351.786092203763,6366.419243378358,6379.365031683337,6391.111056596746,6401.893448458436,6413.032454169596,6424.845993701503,6438.521377037665,6450.121842715086,6463.491249881063,6476.529054173351,6487.170618863263,6497.060573055785,6508.215549732105,6517.073504207172,6524.275698294314,6532.479756939116,6538.796569087598,6543.779624406642,6548.860852448834,6556.163199347886,6564.164821280771,6572.114058210244,6581.376415284504,6589.442952064007,6599.545074810827,6607.1934767538005,6613.237817009803,6618.410102973334,6624.502923472792,6630.242498177942,6634.945195969455,6638.828655353185,6643.5868299830845,6647.044710256533,6649.957613015453,6651.878366100847,6652.470474023801,6654.21116163284,6656.087669928496,6656.084180527908,6656.2011494217,6654.325778306966,6652.424879237038,6651.229302916907,6648.030686177232,6643.276867605709,6639.281679441827,6636.174226705032,6632.2203296631305,6628.713776089154,6626.821739390784,6624.185718942442,6622.569307107103,6621.462971887368,6622.867291143288,6623.005111733783,6622.795156290448,6621.848743763398,6619.324475425413,6616.669540426356,6613.583069605109,6609.734632998924,6604.613464717116,6596.759303279358,6590.279893438365,6584.0353490580055,6576.582437813425,6570.470691761764,6563.196263759132,6557.5142986159135,6554.385531476493,6552.309433467933,6546.742793886715,6542.386061789373,6538.842283149423,6535.0804147457375,6527.262713049102,6519.71255021623,6510.526978059924,6499.109112396013,6491.029815915796,6481.8695296529,6475.094606557949,6464.929902141121,6455.481689474256,6448.196415294244,6438.322310964495,6430.46254754674,6423.454893550935,6415.36137301266,6405.346346117474,6396.172403663119,6387.391414280385,6377.127372848127,6367.377470075154,6357.423196501146,6349.5845185169965,6342.8828939557625,6334.058508997929,6326.405889662548,6320.352300781838,6310.816508713718,6303.949049986171,6300.208111539845,6298.507545730126,6296.327589382401,6290.925005719302,6288.082264713432,6283.652034032387,6280.8080518034685,6280.445860882464,6278.691565449349,6280.121126337677,6278.513129695672,6276.838964894275,6275.124286787094,6273.374126408907,6271.482702334467,6271.159917645792,6270.899956358535,6271.80241406151,6274.887123782547,6278.08319001402,6284.313440643795,6292.782756704217,6300.055587792221,6306.052828309253,6312.553020450155,6321.4917029499065,6330.526448644913,6340.028038335036,6348.600969864789,6356.299911795849,6364.037878394379,6370.97520098458,6374.996044020091,6377.99915590244,6379.380745828793,6378.298923457534,6375.8674579201725,6375.073774364122,6374.424541428534,6375.185433202859,6377.351045913085,6379.109664314507,6381.933084293701,6388.3322246090975,6398.055004975469,6407.121600142521,6417.910658224585,6429.8570635960405,6443.083147067133,6456.252928176596,6470.375281344738,6482.422936519943,6494.078945907657,6506.512737179644,6519.8888346514805,6530.6807604912765,6541.088724135127,6553.805685414795,6563.234724412667,6573.515985615335,6584.763582144744,6598.3790097330375,6617.199787959243,6637.175767331532,6658.238852315476,6679.670963771712,6701.671343119183,6721.640274323599,6740.829280088747,6758.220409072953,6775.279421675974,6791.97583445385,6808.698258824194,6823.548703012488,6838.700017040652,6852.964242864842,6867.388711860675,6879.883434645028,6891.205177383332,6903.590681281407,6911.9081316492175,6920.079958575681,6929.160781374117,6936.794572276399,6947.88377057079,6956.694476709423,6966.800501726494,6974.408673385573,6986.106519087391,6998.91310020352,7008.924312187076,7022.723860991765,7038.678296494737,7055.811584647954,7077.266755069355,7098.841554906848,7123.57881102881,7151.651895467563,7182.682057097493,7216.698782609706,7248.051518896597,7283.121038545176,7319.169134151625,7355.418308946072,7394.195512425398,7436.035360476701,7476.398185386475,7516.14082613162,7552.415018843623,7589.590022846371,7623.077921189113,7654.073061984976,7682.526272338925,7709.452549757008,7734.553384421943,7756.068914769314,7780.4382337193665,7810.799500413012,7837.517933957167,7859.080502374802,7886.233221174938,7911.410796880171,7936.846783331883,7967.3602870315235,7997.482693086604,8030.836053429475,8070.366524150607,8113.211734937174,8155.406699567359,8191.081062735208,8228.824490330902,8261.615133733216,8289.76566246882,8318.30125695986,8347.889430893405,8380.890689410127,8417.756211825887,8449.786618416349,8480.137726169693,8516.688673654255,8550.582038701725,8580.937397914406,8616.549944601544,8649.30039538574,8687.425374589215,8721.935683240492,8759.587663655673,8793.400445709149,8828.893777964362,8869.764009264269,8908.388123188613,8945.787922314872,8978.125941547374,9007.870029697266,9038.831225976592,9069.230179378694,9092.38352248182,9119.982866901386,9147.582782473646,9171.945304943754,9194.067267162183,9226.400780616888,9257.315581426114,9289.057129226789,9329.15171263895,9368.394691664476,9408.56287388708,9450.948598356445,9495.533924600008,9537.35420943918,9574.388580271305,9615.13805004457,9655.125599054474,9691.648267322877,9722.815620677602,9756.155901712114,9782.894184792616,9808.718756481536,9834.911121380876,9871.406787084312,9904.765114589663,9946.073704245784,9992.399594262582,10028.616607439952,10067.169028125163,10116.529984972422,10168.407205350271,10212.293221436905,10248.497757782938,10291.003011444564,10329.12388303213,10364.014884240918,10391.437930007978,10422.45767404756,10460.020609122172,10492.772683417908,10534.842460809454,10575.11825574148,10625.023344233372,10665.9560983845,10700.308292267604,10721.27278218761,10741.005759944806,10771.80729586456,10790.341270292109,10809.635661247064,10823.60596615629,10839.903357491294,10849.024458019334,10847.039995185523,10856.089615073392,10873.001794148711,10892.886762996264,10908.61128046705,10928.34999833299,10945.853533672818,10947.002928605752,10934.081052100148,10914.689328368337,10889.508405039993,10869.29033683557,10855.002923482189,10822.366223761175,10776.498846489469,10732.108589444077,10675.980061904193,10611.70304589169,10564.495861475732,10502.410383138433,10446.775637626526,10379.18102281682,10309.313965871734,10244.112733382952,10165.462568938688,10081.572330504592,10000.647391995237,9933.798825782482,9870.486053190984,9824.594998051016,9794.459909210258,9756.920240516372,9720.477118952303,9709.167455779549,9686.630149392064,9682.194822251908,9691.122060299283,9701.827998036568,9706.659486334403,9724.594308943466,9741.320949754414,9772.303524192865,9812.020374955604,9843.494384545736,9873.870136295742,9881.001832728876,9884.093173149004,9886.7361877455,9916.771270921914,9956.528229070947,9976.74763406971,9964.2890058362,9983.360539419364,10025.267332424315,10070.501646747223,10084.186013870993,10092.526450628407,10126.31648852024,10130.584584981403,10073.78637458021,10052.930870689075,9983.881878226744,9918.454787016655,9907.144381219592,9961.22741917518,10038.119356976926,10149.495563884491,10264.043794507255,10369.48773240295,10535.163784623715,10659.197188791371,10813.15384217484,10932.366916448562,11045.196756986496,11057.40130086006,11027.441770066956,10990.858919473283,10954.138964103842,11099.486525848097,11628.246152708967],\"type\":\"scatter\"},{\"mode\":\"lines\",\"name\":\"MSD CRW\",\"x\":[1,2,3,4,5,6,7,8,9,10,11,12,13,14,15,16,17,18,19,20,21,22,23,24,25,26,27,28,29,30,31,32,33,34,35,36,37,38,39,40,41,42,43,44,45,46,47,48,49,50,51,52,53,54,55,56,57,58,59,60,61,62,63,64,65,66,67,68,69,70,71,72,73,74,75,76,77,78,79,80,81,82,83,84,85,86,87,88,89,90,91,92,93,94,95,96,97,98,99,100,101,102,103,104,105,106,107,108,109,110,111,112,113,114,115,116,117,118,119,120,121,122,123,124,125,126,127,128,129,130,131,132,133,134,135,136,137,138,139,140,141,142,143,144,145,146,147,148,149,150,151,152,153,154,155,156,157,158,159,160,161,162,163,164,165,166,167,168,169,170,171,172,173,174,175,176,177,178,179,180,181,182,183,184,185,186,187,188,189,190,191,192,193,194,195,196,197,198,199,200,201,202,203,204,205,206,207,208,209,210,211,212,213,214,215,216,217,218,219,220,221,222,223,224,225,226,227,228,229,230,231,232,233,234,235,236,237,238,239,240,241,242,243,244,245,246,247,248,249,250,251,252,253,254,255,256,257,258,259,260,261,262,263,264,265,266,267,268,269,270,271,272,273,274,275,276,277,278,279,280,281,282,283,284,285,286,287,288,289,290,291,292,293,294,295,296,297,298,299,300,301,302,303,304,305,306,307,308,309,310,311,312,313,314,315,316,317,318,319,320,321,322,323,324,325,326,327,328,329,330,331,332,333,334,335,336,337,338,339,340,341,342,343,344,345,346,347,348,349,350,351,352,353,354,355,356,357,358,359,360,361,362,363,364,365,366,367,368,369,370,371,372,373,374,375,376,377,378,379,380,381,382,383,384,385,386,387,388,389,390,391,392,393,394,395,396,397,398,399,400,401,402,403,404,405,406,407,408,409,410,411,412,413,414,415,416,417,418,419,420,421,422,423,424,425,426,427,428,429,430,431,432,433,434,435,436,437,438,439,440,441,442,443,444,445,446,447,448,449,450,451,452,453,454,455,456,457,458,459,460,461,462,463,464,465,466,467,468,469,470,471,472,473,474,475,476,477,478,479,480,481,482,483,484,485,486,487,488,489,490,491,492,493,494,495,496,497,498,499,500,501,502,503,504,505,506,507,508,509,510,511,512,513,514,515,516,517,518,519,520,521,522,523,524,525,526,527,528,529,530,531,532,533,534,535,536,537,538,539,540,541,542,543,544,545,546,547,548,549,550,551,552,553,554,555,556,557,558,559,560,561,562,563,564,565,566,567,568,569,570,571,572,573,574,575,576,577,578,579,580,581,582,583,584,585,586,587,588,589,590,591,592,593,594,595,596,597,598,599,600,601,602,603,604,605,606,607,608,609,610,611,612,613,614,615,616,617,618,619,620,621,622,623,624,625,626,627,628,629,630,631,632,633,634,635,636,637,638,639,640,641,642,643,644,645,646,647,648,649,650,651,652,653,654,655,656,657,658,659,660,661,662,663,664,665,666,667,668,669,670,671,672,673,674,675,676,677,678,679,680,681,682,683,684,685,686,687,688,689,690,691,692,693,694,695,696,697,698,699,700,701,702,703,704,705,706,707,708,709,710,711,712,713,714,715,716,717,718,719,720,721,722,723,724,725,726,727,728,729,730,731,732,733,734,735,736,737,738,739,740,741,742,743,744,745,746,747,748,749,750,751,752,753,754,755,756,757,758,759,760,761,762,763,764,765,766,767,768,769,770,771,772,773,774,775,776,777,778,779,780,781,782,783,784,785,786,787,788,789,790,791,792,793,794,795,796,797,798,799,800,801,802,803,804,805,806,807,808,809,810,811,812,813,814,815,816,817,818,819,820,821,822,823,824,825,826,827,828,829,830,831,832,833,834,835,836,837,838,839,840,841,842,843,844,845,846,847,848,849,850,851,852,853,854,855,856,857,858,859,860,861,862,863,864,865,866,867,868,869,870,871,872,873,874,875,876,877,878,879,880,881,882,883,884,885,886,887,888,889,890,891,892,893,894,895,896,897,898,899,900,901,902,903,904,905,906,907,908,909,910,911,912,913,914,915,916,917,918,919,920,921,922,923,924,925,926,927,928,929,930,931,932,933,934,935,936,937,938,939,940,941,942,943,944,945,946,947,948,949,950,951,952,953,954,955,956,957,958,959,960,961,962,963,964,965,966,967,968,969,970,971,972,973,974,975,976,977,978,979,980,981,982,983,984,985,986,987,988,989,990,991,992,993,994,995,996,997,998,999],\"y\":[35.99999999999992,136.84766767874217,296.69320125720947,510.0141203730001,772.0513430874043,1078.744472226932,1426.7366926736406,1812.6675356511755,2233.3727540578043,2685.8043426935938,3166.936055196312,3675.161302595591,4208.53860940859,4765.242835481243,5343.924823369619,5942.726975727627,6560.047215455837,7194.019137193587,7842.726519732815,8504.818571438194,9178.97286752109,9865.528815614562,10563.078432292918,11269.816680659997,11984.981220158836,12709.372704179685,13442.042462070687,14182.327768162642,14929.838228657409,15684.421719244943,16446.32134284577,17216.278467655527,17991.569831247747,18772.57978286274,19559.54148452819,20352.85493599896,21152.832830149127,21959.756296292748,22774.184594118306,23595.92342208234,24424.941603409945,25261.316224305978,26105.00778898845,26955.851496813328,27813.73800185564,28679.34359017105,29552.94216394472,30435.145672606217,31325.472589214954,32223.84887990249,33129.42845095923,34042.66520591217,34964.2217410188,35895.344142319016,36835.947893559714,37785.92580918464,38745.17225498155,39713.57322875202,40690.87676488311,41676.91777213014,42670.84307061069,43671.6458683028,44678.683636374095,45690.83039256117,46707.24303708667,47727.85864240187,48752.63554599417,49782.00129584191,50816.35428377152,51855.12906164801,52895.57240916453,53936.65335410982,54977.36065166023,56025.14848860141,57079.53435911016,58138.98635387202,59202.74598634035,60262.6050655832,61317.716832638434,62367.88178967233,63412.7869930762,64450.60795234716,65480.74382511732,66502.94598041111,67517.54646162943,68525.23774679107,69525.39856767007,70518.87182621434,71510.5689124904,72500.18992399474,73496.85488706389,74501.95454199756,75512.69973781725,76529.08637563894,77553.40886688688,78586.06097226164,79624.61780533045,80659.35428378536,81690.83581843734,82718.09648031667,83740.08532801506,84755.676237289,85764.38706432979,86765.8515055685,87760.2569660969,88747.11041982062,89725.80784114207,90706.04656667204,91686.78824269652,92666.892255411,93647.61783998222,94627.47997044156,95606.06921962836,96581.55670432898,97551.97820452727,98514.47311098654,99468.71430888644,100410.8649097316,101340.28619754028,102256.59911663976,103160.3579172836,104049.53857671708,104923.62432500329,105784.44302110164,106631.03922787926,107463.62360880023,108279.57984488671,109077.4551775335,109868.59333370133,110640.6230899966,111393.80170148634,112127.38274851558,112839.37005856218,113530.07297877932,114199.82743910309,114848.73814312158,115483.95445142646,116106.71558069663,116716.26726104414,117330.77150190546,117952.18933574428,118578.95615551522,119212.44447303012,119852.5387490798,120499.85380026013,121152.82470838208,121809.91720136022,122472.08171892914,123139.06279193172,123811.08556877516,124487.28988125702,125170.40435324838,125849.72222620006,126526.34262407589,127196.48412239016,127858.92011511866,128515.8826165743,129167.37556137628,129813.21245432812,130452.72373631352,131084.23068943212,131712.49043408106,132336.42659150565,132955.82043693203,133571.67318560285,134184.86001468642,134795.59346432457,135403.43199498305,136010.155652424,136615.2562388745,137215.5117370349,137812.70254607312,138405.51499883097,138995.13550282136,139581.75136847692,140165.2764395495,140749.81304311322,141335.59314689966,141916.8591961538,142485.21636000564,143042.7851614925,143593.7199200892,144134.67532392204,144664.59344665802,145182.52403285747,145688.641327607,146183.11538000446,146669.9444577066,147148.20871728673,147619.4306689031,148084.4459105313,148539.07440161234,148986.06858985886,149426.17860009716,149860.07037972572,150290.70460174122,150716.20105411028,151136.62883430498,151551.34227365273,151963.7189140392,152365.6013433583,152756.03909825638,153139.80531871802,153511.74751034222,153873.96039671142,154222.67696620373,154559.4578269828,154885.67700951692,155202.48458138952,155515.4724956124,155816.66456212694,156107.69828728325,156389.79393828622,156663.57529565677,156929.29703305353,157194.05399548376,157460.12873576244,157727.08275539672,157991.09667458283,158246.9605685126,158494.7767179629,158735.25932377545,158966.16599839315,159191.95320504403,159411.5064947846,159622.07782126113,159824.79958693104,160020.06180067794,160207.21240937972,160396.43191078978,160583.56810093945,160767.6447708983,160948.62870169125,161139.3078594248,161341.27556732373,161553.44656708228,161775.66587885126,162009.980863387,162256.80893876732,162506.72852991015,162773.69354299185,163048.92148095113,163333.23748509525,163627.89154143995,163944.030292974,164273.20454161314,164616.2550933361,164965.4252480583,165320.7209572181,165681.07524888954,166050.62798650324,166426.1926779234,166813.15634125788,167212.09153796692,167620.56298294922,168038.21518089445,168464.62442871206,168900.79883170998,169346.2310791478,169800.62936079188,170266.9608792722,170744.97936062244,171235.3132103339,171737.6163340562,172250.84525575687,172773.3050631094,173302.35859449397,173829.772062042,174353.42963621544,174860.7765157188,175351.88407896514,175828.43547850897,176291.39368756555,176742.20068928972,177181.1502460359,177604.73985161236,178012.3110142744,178405.2413455914,178783.86758458745,179147.24024643045,179495.36429323346,179846.53521714915,180204.8814540826,180574.66151949065,180962.17294992888,181366.37570848016,181794.8878224268,182237.1667460591,182690.96731272407,183158.29215340808,183638.7630245713,184147.20584521224,184681.3231268246,185238.0848837562,185814.81110583467,186413.0445734636,187031.301606566,187666.3611477881,188323.51989713305,189000.92892645323,189695.1121887944,190402.5837208621,191120.3665752297,191849.64896443443,192584.75160509988,193324.01137802863,194066.33688477057,194809.09944582972,195546.89212870493,196280.45450932469,197004.3219505353,197719.23997896424,198424.6436466655,199121.3605880696,199806.57706080683,200477.81845358672,201132.05670038916,201766.2243067668,202379.66310447452,202971.9952871964,203541.29717188168,204086.40404002572,204606.57863541992,205104.16104893872,205581.86453875207,206041.3943590512,206484.2979922732,206912.55554385603,207329.14497173895,207743.17101685583,208153.50211828752,208561.52325050088,208965.562247328,209369.19654588183,209772.0516743709,210172.148520792,210575.5940637152,210982.5919061085,211393.98720819308,211809.46818085745,212225.52600376357,212639.45295497176,213048.3535862688,213457.30772294337,213859.1148777802,214253.22931856185,214638.29931220884,215007.1055801072,215356.7435340208,215682.39253633935,215986.37910806623,216295.2698114003,216631.8951009301,217001.5414879993,217401.53239514725,217833.63118255045,218295.71102815348,218789.5966018138,219282.21803242707,219762.71390652028,220264.47165485084,220785.3365143652,221324.60990312512,221875.1254558118,222432.53992789533,222997.1671267924,223571.0012310688,224149.8776946285,224742.9986811033,225348.81314850744,225962.7816972405,226598.88880051643,227226.3371257312,227846.98610804084,228459.08378618976,229060.8641937161,229645.3632072498,230208.3561355101,230749.4092409809,231269.78058132145,231775.84308562585,232266.46614772503,232742.6124737051,233202.9818626888,233642.6900181742,234061.6704685882,234469.5435799201,234866.0729434684,235248.76694111916,235621.53651868217,235970.58658134565,236318.2118318725,236664.2901803309,237009.27056365885,237357.9028761088,237709.38346045223,238063.83450644717,238417.2017800544,238769.4168402761,239126.47454755087,239498.6943479108,239885.40017829053,240284.0489909457,240695.9174683819,241119.74010680357,241553.5592085688,241993.78206849008,242443.2810598213,242901.25647800657,243367.07058477684,243835.580212136,244306.16600006892,244780.62888155543,245261.88621087116,245751.14777378424,246253.0289442664,246769.546805482,247282.5388540165,247802.1665172228,248323.93180573764,248847.15734830475,249373.1456590991,249906.67166812008,250447.73303151364,250997.72888577185,251555.0110945609,252120.0913324244,252692.8400219824,253273.3075410066,253877.6876441482,254501.96597823012,255155.1654544364,255839.7706840961,256555.74359096665,257281.4456918862,258000.5342136772,258715.621138816,259419.29497032345,260114.48018402944,260796.7770164559,261473.0445923405,262146.08897503355,262827.41054929554,263519.4311364854,264221.2338402194,264928.7395385376,265649.3621243742,266380.0493335091,267122.0069373347,267874.13730131387,268641.1269973981,269423.7471634744,270222.26519829594,271027.89535439207,271841.430272813,272664.2465480347,273496.85331082606,274337.7182471737,275189.21049922047,276056.04063603975,276935.38070684904,277828.9403513527,278742.5501583949,279682.7106214464,280636.40389497194,281602.0915108547,282552.814070679,283483.52068366524,284390.15791389975,285270.20268953027,286131.36318540655,286977.7031422631,287808.23587843904,288614.0406065913,289396.1866493024,290152.267162652,290880.04584253835,291577.7229178957,292246.7022602901,292880.8483958057,293478.2051396362,294035.07503965066,294549.44486664137,295018.71021894616,295444.2369381172,295829.6015325944,296236.9290621505,296667.9802211532,297123.8610626971,297562.0698615678,297987.5677988739,298387.2029215514,298758.5805475457,299104.4859321169,299429.9983949414,299740.816302364,300034.3360727329,300312.78569331946,300577.5971500893,300867.7690410931,301188.9910174698,301536.3562465755,301915.76247004594,302314.919365105,302734.5870211257,303178.5650043841,303637.3597542368,304110.5111470512,304599.5758992071,305105.52147493546,305643.574077452,306205.5073832978,306803.65605655895,307434.183912426,308096.725553888,308755.1668411157,309403.08083217614,310037.5089322875,310653.0169004271,311251.120367491,311831.9462394652,312396.53990737424,312917.35761177464,313392.51316196745,313819.88192156586,314196.6449683269,314520.78353995515,314790.3421003735,315004.2932376609,315162.5106848619,315274.1773818432,315341.59634485404,315366.91810623667,315357.13154762227,315311.44922510313,315249.05139291246,315171.5617450029,315095.7915171315,315012.6007258464,314914.6768316445,314799.3700483167,314670.0790058104,314521.178303207,314351.39732569864,314192.74211497966,314046.2524208088,313911.87831956346,313764.19199557026,313598.09478284785,313416.466374206,313218.8452395809,313011.7059552169,312792.3227360556,312563.68234905537,312326.8005794081,312085.67416167463,311854.528283503,311635.1398664757,311414.49997359526,311195.7489414552,310933.7866380145,310621.74165815185,310260.41026251146,309845.95400771505,309382.562629926,308869.98524593725,308334.22683419124,307826.72493777587,307351.66274533106,306899.5562824469,306499.8245249231,306145.10351003346,305803.878914252,305479.46198473626,305179.54864351824,304902.95768748067,304650.7235297331,304419.3279866431,304211.72839012207,304013.15191083506,303812.9787793117,303609.3260526292,303385.70217710326,303160.9194300311,302982.9185517013,302845.1265115993,302749.47094467765,302690.6860130897,302658.88164418243,302658.2212758602,302691.87393132807,302768.5167491582,302872.0642454273,303001.4683491916,303154.9025573654,303330.9511177277,303524.45443916286,303737.5959008821,303961.2143723605,304193.5451048931,304450.6227661326,304727.0609429682,305012.37147282023,305305.8461990093,305616.2462118848,305944.50127290527,306294.8845010387,306657.74541745527,307035.10068859224,307430.4894305079,307846.98759583576,308301.2333264514,308789.74213741533,309313.3647829592,309873.1523538568,310463.3064956971,311083.1962455636,311739.21439957124,312431.43133531976,313162.9968992595,313932.8760426387,314728.89672992536,315545.46552186925,316381.0468136797,317244.38531613693,318148.50812439754,319096.5462780299,320090.725545051,321126.49713686644,322228.7598024864,323393.0431497399,324619.7947671753,325910.6639591126,327244.6974065795,328621.6325818883,330041.28398245014,331500.3544349185,333000.12086622434,334540.5111704567,336120.70292444446,337745.0647773168,339410.4173507236,341103.8781872506,342869.201323753,344690.0911051646,346582.55517945567,348549.71364361624,350572.99728013866,352628.05322741385,354672.252301238,356696.344747255,358696.5870550549,360681.1238076732,362654.4379558716,364635.8932887127,366628.6211977129,368633.1707997761,370673.65307617735,372738.0692208709,374831.84814427583,376960.6244794965,379138.06209047104,381368.06739409146,383648.83996622416,385982.534552624,388379.26173607714,390838.5101653058,393359.7443858556,395942.73607316415,398593.69082406256,401303.0813969842,404073.3257350906,406902.1249967207,409781.4955857288,412707.8015150658,415677.1597122849,418685.4332843246,421724.0809378539,424781.6484361933,427856.4445455296,430947.3384283269,434057.1473891383,437181.7235653616,440321.7975580583,443489.0297630342,446689.320998271,449926.9010325621,453173.39097513165,456426.03588355554,459681.9745398248,462937.1311842959,466199.6123427695,469461.6431781481,472729.9627239023,476003.3835448839,479278.3115176647,482554.0347349786,485841.9646171133,489134.4719251792,492436.98037337087,495761.3949491312,499117.7985277577,502514.81539394,505931.9412917817,509380.2188160119,512861.9645343308,516358.3883232106,519896.8205112856,523483.320966305,527125.7018665082,530778.7282666069,534442.613867043,538107.138636429,541781.7516913774,545483.52295718,549180.1572444413,552875.1070937144,556557.1595863994,560221.8518499003,563854.4832359855,567453.2408467595,571010.0231015306,574521.2597701737,577989.0386232473,581412.6613649728,584807.7345138822,588191.1502311697,591562.8914169703,594911.8344699258,598245.1110628748,601552.5384718741,604835.3874200141,608139.0972951265,611467.9402889856,614831.5809437371,618228.4978677351,621650.9277776267,625102.2660098742,628582.5787634292,632093.5371699198,635618.7690945081,639150.8267302185,642694.1324720165,646248.0130867553,649810.9060774401,653391.6577216024,656989.308308269,660642.3614819109,664346.6155108967,668060.6905812726,671795.8115036655,675530.431149158,679265.5979488501,682994.393795448,686724.4315517304,690455.6461547215,694231.6896981923,698008.8407637688,701783.7292374509,705555.6531621531,709383.3704779524,713220.0585532339,717080.9354127108,720972.1147118219,724887.7675461447,728829.4514018385,732797.3192024918,736781.8043180807,740791.1995347405,744825.6008905548,748881.1354851598,752951.5316918116,757051.8485685524,761116.4115132855,765135.9436461881,769115.0044754812,773053.5238587182,776966.2804095527,780826.5253765823,784617.147696109,788342.603104042,792001.2787641058,795600.9451943155,799157.5766637869,802673.0827666643,806135.8854225677,809518.9235980822,812820.8723986493,816038.2124881188,819167.8897967645,822213.3846068069,825223.0104119689,828171.5084311867,831054.2236718214,833879.3897674168,836650.7760539452,839455.0459302461,842275.5270495747,845149.0199341038,848040.5573529005,850945.4590656636,853945.1327652179,857016.5091290661,860160.6389872611,863369.7316474548,866659.2387396034,869997.4851091017,873383.2597425767,876812.5009746162,880254.5177560769,883764.7737061003,887338.7712341354,890972.5500530675,894679.298506808,898376.2379514148,902049.8761904158,905711.7187711298,909364.3746637574,913002.5126902184,916636.5712222378,920236.093390937,923805.7705700702,927379.1078705452,931031.2211802888,934762.0498716343,938510.2715568634,942279.4046662148,946069.2539628992,949864.0515919843,953673.98354451,957475.2827165624,961303.637691856,965164.3980473448,969030.5142041236,972910.3981705098,976807.388281471,980718.4428648856,984636.0079813962,988568.0173237864,992529.9503539968,996457.6588596912,1000353.8651551596,1004221.3920219948,1008058.0561139496,1011852.743010946,1015573.2380539216,1019235.880005252,1022889.9041790524,1026525.6842494734,1030336.1018999784,1034299.1538555778,1038425.6531173292,1042694.0909526728,1047098.678015309,1051632.1769903866,1056327.4885238933,1061211.1599551344,1066301.4450433913,1071607.8777596615,1077171.832190063,1082973.940101491,1088999.9442514996,1095117.068584306,1101325.193980289,1107612.189352007,1113850.6054800476,1120032.8177625537,1126169.3503756188,1132248.776405651,1138351.534699191,1144488.0785353135,1150644.6565777042,1156939.3990081097,1163242.532861838,1169556.8945266237,1175919.5146200042,1182309.321298868,1188752.690748964,1195145.128554818,1201516.4610366633,1207878.8790418482,1214219.726349953,1220531.1366789602,1226792.428246167,1233040.6589668011,1239274.7929491738,1245489.0526620322,1251715.3844080945,1257947.5965320533,1264183.8920686422,1270440.0886515018,1276802.603440917,1283291.1752515377,1289829.0117222003,1296272.6984398374,1302662.6942304857,1308946.579410968,1315160.306211033,1321284.1166323728,1327322.8975815962,1333352.9420856126,1339415.6088960744,1345549.7074249985,1351743.99917425,1358229.0880279492,1365096.8098035653,1372359.4082143574,1379958.3492649947,1387908.022396936,1396320.5035037424,1405220.078282959,1414413.5250843307,1423923.882018695,1433567.1621658765,1443318.9235407067,1453211.0451668643,1463210.1981636663,1473289.338225982,1483443.2037272523,1493675.628917471,1504071.7802305487,1514614.715204976,1525279.9961024614,1536079.8150603476,1547231.955568357,1558757.6184176635,1570701.0789121469,1583024.7806327683,1595434.3978141418,1607876.9754296006,1620363.923139712,1633004.1765679338,1645799.590715376,1658725.3971239852,1671801.232145558,1684985.6532305635,1698239.8926528664,1711550.9021282713,1724919.7378754015,1738271.2831654353,1751611.53286537,1764952.6255534976,1778284.8189728176,1791619.5246868406,1804949.254749681,1818313.7834015528,1831747.86808036,1845296.0573698992,1858881.879442565,1872486.5408041645,1886069.7999405963,1899689.68605597,1913318.6634170532,1926987.4685315103,1940633.790758528,1954249.5674828244,1967794.3408035776,1981245.9167014975,1994606.0652549365,2007838.5870891209,2020916.340937938,2033828.8674702223,2046574.158820271,2059117.67275462,2071427.6895665333,2083564.937207971,2095516.6546837117,2107331.2541676303,2118953.701387057,2131367.272295947,2144375.8475739253,2157909.6158090075,2171920.46725165,2186435.642306994,2201509.630922408,2217229.100504277,2232929.644824569,2248584.993059464,2264580.630895864,2281393.125725149,2298239.0447756336,2315185.0153869605,2332083.081289797,2348909.387383826,2365603.5364634176,2382194.639511555,2398617.490130709,2414983.9052913827,2431131.092582161,2446890.211259015,2462129.519254922,2476619.1546605965,2490005.7582956334,2502122.58872183,2512413.673265757,2520606.787457888,2529126.8413102445,2539039.9939264664,2551810.205618803],\"type\":\"scatter\"}],                        {\"template\":{\"data\":{\"histogram2dcontour\":[{\"type\":\"histogram2dcontour\",\"colorbar\":{\"outlinewidth\":0,\"ticks\":\"\"},\"colorscale\":[[0.0,\"#0d0887\"],[0.1111111111111111,\"#46039f\"],[0.2222222222222222,\"#7201a8\"],[0.3333333333333333,\"#9c179e\"],[0.4444444444444444,\"#bd3786\"],[0.5555555555555556,\"#d8576b\"],[0.6666666666666666,\"#ed7953\"],[0.7777777777777778,\"#fb9f3a\"],[0.8888888888888888,\"#fdca26\"],[1.0,\"#f0f921\"]]}],\"choropleth\":[{\"type\":\"choropleth\",\"colorbar\":{\"outlinewidth\":0,\"ticks\":\"\"}}],\"histogram2d\":[{\"type\":\"histogram2d\",\"colorbar\":{\"outlinewidth\":0,\"ticks\":\"\"},\"colorscale\":[[0.0,\"#0d0887\"],[0.1111111111111111,\"#46039f\"],[0.2222222222222222,\"#7201a8\"],[0.3333333333333333,\"#9c179e\"],[0.4444444444444444,\"#bd3786\"],[0.5555555555555556,\"#d8576b\"],[0.6666666666666666,\"#ed7953\"],[0.7777777777777778,\"#fb9f3a\"],[0.8888888888888888,\"#fdca26\"],[1.0,\"#f0f921\"]]}],\"heatmap\":[{\"type\":\"heatmap\",\"colorbar\":{\"outlinewidth\":0,\"ticks\":\"\"},\"colorscale\":[[0.0,\"#0d0887\"],[0.1111111111111111,\"#46039f\"],[0.2222222222222222,\"#7201a8\"],[0.3333333333333333,\"#9c179e\"],[0.4444444444444444,\"#bd3786\"],[0.5555555555555556,\"#d8576b\"],[0.6666666666666666,\"#ed7953\"],[0.7777777777777778,\"#fb9f3a\"],[0.8888888888888888,\"#fdca26\"],[1.0,\"#f0f921\"]]}],\"heatmapgl\":[{\"type\":\"heatmapgl\",\"colorbar\":{\"outlinewidth\":0,\"ticks\":\"\"},\"colorscale\":[[0.0,\"#0d0887\"],[0.1111111111111111,\"#46039f\"],[0.2222222222222222,\"#7201a8\"],[0.3333333333333333,\"#9c179e\"],[0.4444444444444444,\"#bd3786\"],[0.5555555555555556,\"#d8576b\"],[0.6666666666666666,\"#ed7953\"],[0.7777777777777778,\"#fb9f3a\"],[0.8888888888888888,\"#fdca26\"],[1.0,\"#f0f921\"]]}],\"contourcarpet\":[{\"type\":\"contourcarpet\",\"colorbar\":{\"outlinewidth\":0,\"ticks\":\"\"}}],\"contour\":[{\"type\":\"contour\",\"colorbar\":{\"outlinewidth\":0,\"ticks\":\"\"},\"colorscale\":[[0.0,\"#0d0887\"],[0.1111111111111111,\"#46039f\"],[0.2222222222222222,\"#7201a8\"],[0.3333333333333333,\"#9c179e\"],[0.4444444444444444,\"#bd3786\"],[0.5555555555555556,\"#d8576b\"],[0.6666666666666666,\"#ed7953\"],[0.7777777777777778,\"#fb9f3a\"],[0.8888888888888888,\"#fdca26\"],[1.0,\"#f0f921\"]]}],\"surface\":[{\"type\":\"surface\",\"colorbar\":{\"outlinewidth\":0,\"ticks\":\"\"},\"colorscale\":[[0.0,\"#0d0887\"],[0.1111111111111111,\"#46039f\"],[0.2222222222222222,\"#7201a8\"],[0.3333333333333333,\"#9c179e\"],[0.4444444444444444,\"#bd3786\"],[0.5555555555555556,\"#d8576b\"],[0.6666666666666666,\"#ed7953\"],[0.7777777777777778,\"#fb9f3a\"],[0.8888888888888888,\"#fdca26\"],[1.0,\"#f0f921\"]]}],\"mesh3d\":[{\"type\":\"mesh3d\",\"colorbar\":{\"outlinewidth\":0,\"ticks\":\"\"}}],\"scatter\":[{\"fillpattern\":{\"fillmode\":\"overlay\",\"size\":10,\"solidity\":0.2},\"type\":\"scatter\"}],\"parcoords\":[{\"type\":\"parcoords\",\"line\":{\"colorbar\":{\"outlinewidth\":0,\"ticks\":\"\"}}}],\"scatterpolargl\":[{\"type\":\"scatterpolargl\",\"marker\":{\"colorbar\":{\"outlinewidth\":0,\"ticks\":\"\"}}}],\"bar\":[{\"error_x\":{\"color\":\"#2a3f5f\"},\"error_y\":{\"color\":\"#2a3f5f\"},\"marker\":{\"line\":{\"color\":\"#E5ECF6\",\"width\":0.5},\"pattern\":{\"fillmode\":\"overlay\",\"size\":10,\"solidity\":0.2}},\"type\":\"bar\"}],\"scattergeo\":[{\"type\":\"scattergeo\",\"marker\":{\"colorbar\":{\"outlinewidth\":0,\"ticks\":\"\"}}}],\"scatterpolar\":[{\"type\":\"scatterpolar\",\"marker\":{\"colorbar\":{\"outlinewidth\":0,\"ticks\":\"\"}}}],\"histogram\":[{\"marker\":{\"pattern\":{\"fillmode\":\"overlay\",\"size\":10,\"solidity\":0.2}},\"type\":\"histogram\"}],\"scattergl\":[{\"type\":\"scattergl\",\"marker\":{\"colorbar\":{\"outlinewidth\":0,\"ticks\":\"\"}}}],\"scatter3d\":[{\"type\":\"scatter3d\",\"line\":{\"colorbar\":{\"outlinewidth\":0,\"ticks\":\"\"}},\"marker\":{\"colorbar\":{\"outlinewidth\":0,\"ticks\":\"\"}}}],\"scattermapbox\":[{\"type\":\"scattermapbox\",\"marker\":{\"colorbar\":{\"outlinewidth\":0,\"ticks\":\"\"}}}],\"scatterternary\":[{\"type\":\"scatterternary\",\"marker\":{\"colorbar\":{\"outlinewidth\":0,\"ticks\":\"\"}}}],\"scattercarpet\":[{\"type\":\"scattercarpet\",\"marker\":{\"colorbar\":{\"outlinewidth\":0,\"ticks\":\"\"}}}],\"carpet\":[{\"aaxis\":{\"endlinecolor\":\"#2a3f5f\",\"gridcolor\":\"white\",\"linecolor\":\"white\",\"minorgridcolor\":\"white\",\"startlinecolor\":\"#2a3f5f\"},\"baxis\":{\"endlinecolor\":\"#2a3f5f\",\"gridcolor\":\"white\",\"linecolor\":\"white\",\"minorgridcolor\":\"white\",\"startlinecolor\":\"#2a3f5f\"},\"type\":\"carpet\"}],\"table\":[{\"cells\":{\"fill\":{\"color\":\"#EBF0F8\"},\"line\":{\"color\":\"white\"}},\"header\":{\"fill\":{\"color\":\"#C8D4E3\"},\"line\":{\"color\":\"white\"}},\"type\":\"table\"}],\"barpolar\":[{\"marker\":{\"line\":{\"color\":\"#E5ECF6\",\"width\":0.5},\"pattern\":{\"fillmode\":\"overlay\",\"size\":10,\"solidity\":0.2}},\"type\":\"barpolar\"}],\"pie\":[{\"automargin\":true,\"type\":\"pie\"}]},\"layout\":{\"autotypenumbers\":\"strict\",\"colorway\":[\"#636efa\",\"#EF553B\",\"#00cc96\",\"#ab63fa\",\"#FFA15A\",\"#19d3f3\",\"#FF6692\",\"#B6E880\",\"#FF97FF\",\"#FECB52\"],\"font\":{\"color\":\"#2a3f5f\"},\"hovermode\":\"closest\",\"hoverlabel\":{\"align\":\"left\"},\"paper_bgcolor\":\"white\",\"plot_bgcolor\":\"#E5ECF6\",\"polar\":{\"bgcolor\":\"#E5ECF6\",\"angularaxis\":{\"gridcolor\":\"white\",\"linecolor\":\"white\",\"ticks\":\"\"},\"radialaxis\":{\"gridcolor\":\"white\",\"linecolor\":\"white\",\"ticks\":\"\"}},\"ternary\":{\"bgcolor\":\"#E5ECF6\",\"aaxis\":{\"gridcolor\":\"white\",\"linecolor\":\"white\",\"ticks\":\"\"},\"baxis\":{\"gridcolor\":\"white\",\"linecolor\":\"white\",\"ticks\":\"\"},\"caxis\":{\"gridcolor\":\"white\",\"linecolor\":\"white\",\"ticks\":\"\"}},\"coloraxis\":{\"colorbar\":{\"outlinewidth\":0,\"ticks\":\"\"}},\"colorscale\":{\"sequential\":[[0.0,\"#0d0887\"],[0.1111111111111111,\"#46039f\"],[0.2222222222222222,\"#7201a8\"],[0.3333333333333333,\"#9c179e\"],[0.4444444444444444,\"#bd3786\"],[0.5555555555555556,\"#d8576b\"],[0.6666666666666666,\"#ed7953\"],[0.7777777777777778,\"#fb9f3a\"],[0.8888888888888888,\"#fdca26\"],[1.0,\"#f0f921\"]],\"sequentialminus\":[[0.0,\"#0d0887\"],[0.1111111111111111,\"#46039f\"],[0.2222222222222222,\"#7201a8\"],[0.3333333333333333,\"#9c179e\"],[0.4444444444444444,\"#bd3786\"],[0.5555555555555556,\"#d8576b\"],[0.6666666666666666,\"#ed7953\"],[0.7777777777777778,\"#fb9f3a\"],[0.8888888888888888,\"#fdca26\"],[1.0,\"#f0f921\"]],\"diverging\":[[0,\"#8e0152\"],[0.1,\"#c51b7d\"],[0.2,\"#de77ae\"],[0.3,\"#f1b6da\"],[0.4,\"#fde0ef\"],[0.5,\"#f7f7f7\"],[0.6,\"#e6f5d0\"],[0.7,\"#b8e186\"],[0.8,\"#7fbc41\"],[0.9,\"#4d9221\"],[1,\"#276419\"]]},\"xaxis\":{\"gridcolor\":\"white\",\"linecolor\":\"white\",\"ticks\":\"\",\"title\":{\"standoff\":15},\"zerolinecolor\":\"white\",\"automargin\":true,\"zerolinewidth\":2},\"yaxis\":{\"gridcolor\":\"white\",\"linecolor\":\"white\",\"ticks\":\"\",\"title\":{\"standoff\":15},\"zerolinecolor\":\"white\",\"automargin\":true,\"zerolinewidth\":2},\"scene\":{\"xaxis\":{\"backgroundcolor\":\"#E5ECF6\",\"gridcolor\":\"white\",\"linecolor\":\"white\",\"showbackground\":true,\"ticks\":\"\",\"zerolinecolor\":\"white\",\"gridwidth\":2},\"yaxis\":{\"backgroundcolor\":\"#E5ECF6\",\"gridcolor\":\"white\",\"linecolor\":\"white\",\"showbackground\":true,\"ticks\":\"\",\"zerolinecolor\":\"white\",\"gridwidth\":2},\"zaxis\":{\"backgroundcolor\":\"#E5ECF6\",\"gridcolor\":\"white\",\"linecolor\":\"white\",\"showbackground\":true,\"ticks\":\"\",\"zerolinecolor\":\"white\",\"gridwidth\":2}},\"shapedefaults\":{\"line\":{\"color\":\"#2a3f5f\"}},\"annotationdefaults\":{\"arrowcolor\":\"#2a3f5f\",\"arrowhead\":0,\"arrowwidth\":1},\"geo\":{\"bgcolor\":\"white\",\"landcolor\":\"#E5ECF6\",\"subunitcolor\":\"white\",\"showland\":true,\"showlakes\":true,\"lakecolor\":\"white\"},\"title\":{\"x\":0.05},\"mapbox\":{\"style\":\"light\"}}},\"title\":{\"text\":\"Mean Squared Displacement (Brownian Motion vs Correlated Random Walks)\"},\"xaxis\":{\"title\":{\"text\":\"TAU\"}},\"yaxis\":{\"title\":{\"text\":\"Mean Squared Displacement (MSD)\"}}},                        {\"responsive\": true}                    ).then(function(){\n",
              "                            \n",
              "var gd = document.getElementById('85142fe2-8126-45c8-81b8-13d949d7f54f');\n",
              "var x = new MutationObserver(function (mutations, observer) {{\n",
              "        var display = window.getComputedStyle(gd).display;\n",
              "        if (!display || display === 'none') {{\n",
              "            console.log([gd, 'removed!']);\n",
              "            Plotly.purge(gd);\n",
              "            observer.disconnect();\n",
              "        }}\n",
              "}});\n",
              "\n",
              "// Listen for the removal of the full notebook cells\n",
              "var notebookContainer = gd.closest('#notebook-container');\n",
              "if (notebookContainer) {{\n",
              "    x.observe(notebookContainer, {childList: true});\n",
              "}}\n",
              "\n",
              "// Listen for the clearing of the current output cell\n",
              "var outputEl = gd.closest('.output');\n",
              "if (outputEl) {{\n",
              "    x.observe(outputEl, {childList: true});\n",
              "}}\n",
              "\n",
              "                        })                };                            </script>        </div>\n",
              "</body>\n",
              "</html>"
            ]
          },
          "metadata": {}
        }
      ]
    },
    {
      "cell_type": "markdown",
      "source": [
        "## **Actividad 3: Turning-angle Distribution - (Dist. origen vs Dist. observada) (6 pts)**\n",
        "* Generar dos **CRWs** con dos exponentes diferentes.\n",
        "* Guardar trayectorias en **pandas** Data Frame.\n",
        "* Implementar una **función** que calcule los valores de **turning angle** de una trayectoria.\n",
        "* Comparar en gráfica distribución origen vs distribución observada (Histograma).\n",
        "* Visualizar con **plotly**."
      ],
      "metadata": {
        "id": "eqDpYwfVDXnu"
      }
    },
    {
      "cell_type": "code",
      "source": [],
      "metadata": {
        "id": "AMmNig5MDYes"
      },
      "execution_count": null,
      "outputs": []
    },
    {
      "cell_type": "markdown",
      "source": [
        "## **Actividad 4: Step-length Distribution - (Dist. origen vs Dist. observada) (6 pts)**\n",
        "* Implementar función que genere **Lévy Walks** (LW) utilizando **pandas**.\n",
        "* Guardar trayectorias en Pandas Data Frame.\n",
        "* Implementar una **función** que calcule los valores de **step lenght** de una trayectoria.\n",
        "* Guardar trayectorias en **pandas** Data Frame.\n",
        "* Obtener Step-length distribution.\n",
        "* Comparar en gráfica distribución origen vs distribución observada (Histograma).\n",
        "* Visualizar con **plotly**."
      ],
      "metadata": {
        "id": "Wl0nLjSBDTxZ"
      }
    },
    {
      "cell_type": "code",
      "source": [],
      "metadata": {
        "id": "kKsq6xruDZdk"
      },
      "execution_count": null,
      "outputs": []
    }
  ]
}