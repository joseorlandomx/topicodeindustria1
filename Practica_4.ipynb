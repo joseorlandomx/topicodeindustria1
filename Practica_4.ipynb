{
  "nbformat": 4,
  "nbformat_minor": 0,
  "metadata": {
    "colab": {
      "provenance": [],
      "authorship_tag": "ABX9TyPk31oNS3dX6tLSUGyhtOFd",
      "include_colab_link": true
    },
    "kernelspec": {
      "name": "python3",
      "display_name": "Python 3"
    },
    "language_info": {
      "name": "python"
    }
  },
  "cells": [
    {
      "cell_type": "markdown",
      "metadata": {
        "id": "view-in-github",
        "colab_type": "text"
      },
      "source": [
        "<a href=\"https://colab.research.google.com/github/joseorlandomx/topicodeindustria1/blob/main/Practica_4.ipynb\" target=\"_parent\"><img src=\"https://colab.research.google.com/assets/colab-badge.svg\" alt=\"Open In Colab\"/></a>"
      ]
    },
    {
      "cell_type": "markdown",
      "source": [
        "# **Práctica 4**\n",
        "\n",
        "José Orlando Salas Contreras (208743738)\n",
        "\n",
        "[jose.salas4373@alumnos.udg.mx](mailto:jose.salas4373@alumnos.udg.mx)\n",
        "\n",
        "**Requisitos mínimos:**\n",
        "\n",
        "* **Funciones** que generen trayectorias tipo Brownian Motion (**BM**), Correlated Random Walk (CRW) y Lévy Flight (LF).\n",
        "* Cada una de las funciones deberá tomar como parámetros el **numero de pasos**, la **velocidad** y **posición inicial**.\n",
        "  * Además la funciones para **CRW** y **LF** deberán tomar como parámetro el **coeficiente** para la distribución Cauchy.\n",
        "  * Por último, la función para **LF** también deberá también aceptar como parámetro el **exponente Lévy** (alpha).\n",
        "* **Funciones** para calcular las métricas **Path length** and **Mean Squared Displacement**.\n",
        "\n",
        "**El dashboard degerá contener al menos los siguientes elementos:**\n",
        "\n",
        "* Un panel para desplegar la trayectoria en 3D\n",
        "* Un panel para desplegar la métrica de elección de la trayectoria.\n",
        "* Drop down menu (u otro tipo de selector) que permita elegir la métrica a calcular de la trayectoria bajo análisis (path length o mean squared displacement).\n",
        "* Radio Buttons (u otro tipo de selector) que permita elegir el tipo de trayectoria a generar y análizar.\n",
        "* Widgets que permitan introducir los valores enteros o de punto flotante (segun sea el caso) para ajustar los parámetros de las trayectorias. Estos widgets deberán mostrarse de manera dinámica, es decir, solo deberan mostrarse los parametros relevantes para cada tipo de trayectoria."
      ],
      "metadata": {
        "id": "kd8qW-b6lAOU"
      }
    },
    {
      "cell_type": "code",
      "source": [],
      "metadata": {
        "id": "8EM_806JnYRj"
      },
      "execution_count": null,
      "outputs": []
    }
  ]
}